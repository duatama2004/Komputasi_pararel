{
  "cells": [
    {
      "cell_type": "markdown",
      "metadata": {
        "id": "view-in-github",
        "colab_type": "text"
      },
      "source": [
        "<a href=\"https://colab.research.google.com/github/duatama2004/Komputasi_pararel/blob/main/Modelnya%20komputasi.ipynb\" target=\"_parent\"><img src=\"https://colab.research.google.com/assets/colab-badge.svg\" alt=\"Open In Colab\"/></a>"
      ]
    },
    {
      "cell_type": "code",
      "execution_count": null,
      "metadata": {
        "id": "us5voDzA3Cyt"
      },
      "outputs": [],
      "source": [
        "from keras.models import Sequential\n",
        "from keras.layers import Conv2D, MaxPooling2D, Flatten, Dense, Dropout\n",
        "from tensorflow.keras.preprocessing.image import ImageDataGenerator\n",
        "from keras.optimizers import Adam\n",
        "from sklearn.model_selection import train_test_split\n",
        "from sklearn.preprocessing import LabelBinarizer\n",
        "import tensorflow as tf\n",
        "from keras.applications import EfficientNetB0\n",
        "import matplotlib.pyplot as plt\n",
        "from PIL import Image\n",
        "import random\n",
        "import math\n",
        "import os\n",
        "import itertools"
      ]
    },
    {
      "cell_type": "markdown",
      "metadata": {
        "id": "SXvk8aRD4Oos"
      },
      "source": [
        "# **Persiapan Data**"
      ]
    },
    {
      "cell_type": "code",
      "execution_count": null,
      "metadata": {
        "id": "UHYLQfYjgz7u"
      },
      "outputs": [],
      "source": [
        "# from google.colab import drive\n",
        "# drive.mount('/content/drive')\n",
        "\n",
        "# !ls \"/content/drive/MyDrive/Komputasi pararel Duatama/SIBI/\"\n",
        "\n"
      ]
    },
    {
      "cell_type": "code",
      "execution_count": null,
      "metadata": {
        "colab": {
          "base_uri": "https://localhost:8080/"
        },
        "id": "PGibScuvhGw7",
        "outputId": "49428d96-1947-4ce5-e6f3-61c7ab1912fd"
      },
      "outputs": [
        {
          "output_type": "stream",
          "name": "stdout",
          "text": [
            "Drive already mounted at /content/drive; to attempt to forcibly remount, call drive.mount(\"/content/drive\", force_remount=True).\n",
            "Folder ditemukan! Berikut isi folder:\n",
            "['gray_leaf_spot', 'Sehat', 'blight', 'common_rust']\n"
          ]
        }
      ],
      "source": [
        "from google.colab import drive\n",
        "drive.mount('/content/drive')\n",
        "# Path dataset\n",
        "path = '/content/drive/MyDrive/Komputasi pararel UAS duatama/Datasets/data jagung'\n",
        "if os.path.exists(path):\n",
        "    print(\"Folder ditemukan! Berikut isi folder:\")\n",
        "    print(os.listdir(path))\n",
        "else:\n",
        "    print(\"Folder tidak ditemukan!\")\n",
        "\n",
        "\n",
        "data_dir = path\n"
      ]
    },
    {
      "cell_type": "code",
      "execution_count": null,
      "metadata": {
        "colab": {
          "base_uri": "https://localhost:8080/"
        },
        "id": "F_6FFbyLpFX7",
        "outputId": "dbb32b6f-8bb3-4c45-980a-bfcf4b491fad"
      },
      "outputs": [
        {
          "output_type": "stream",
          "name": "stdout",
          "text": [
            "Total files: 441\n",
            "['/content/drive/MyDrive/Komputasi pararel UAS duatama/Datasets/data jagung/gray_leaf_spot', '/content/drive/MyDrive/Komputasi pararel UAS duatama/Datasets/data jagung/gray_leaf_spot', '/content/drive/MyDrive/Komputasi pararel UAS duatama/Datasets/data jagung/gray_leaf_spot', '/content/drive/MyDrive/Komputasi pararel UAS duatama/Datasets/data jagung/gray_leaf_spot', '/content/drive/MyDrive/Komputasi pararel UAS duatama/Datasets/data jagung/gray_leaf_spot', '/content/drive/MyDrive/Komputasi pararel UAS duatama/Datasets/data jagung/gray_leaf_spot', '/content/drive/MyDrive/Komputasi pararel UAS duatama/Datasets/data jagung/gray_leaf_spot', '/content/drive/MyDrive/Komputasi pararel UAS duatama/Datasets/data jagung/gray_leaf_spot', '/content/drive/MyDrive/Komputasi pararel UAS duatama/Datasets/data jagung/gray_leaf_spot', '/content/drive/MyDrive/Komputasi pararel UAS duatama/Datasets/data jagung/gray_leaf_spot', '/content/drive/MyDrive/Komputasi pararel UAS duatama/Datasets/data jagung/gray_leaf_spot', '/content/drive/MyDrive/Komputasi pararel UAS duatama/Datasets/data jagung/gray_leaf_spot', '/content/drive/MyDrive/Komputasi pararel UAS duatama/Datasets/data jagung/gray_leaf_spot', '/content/drive/MyDrive/Komputasi pararel UAS duatama/Datasets/data jagung/gray_leaf_spot', '/content/drive/MyDrive/Komputasi pararel UAS duatama/Datasets/data jagung/gray_leaf_spot', '/content/drive/MyDrive/Komputasi pararel UAS duatama/Datasets/data jagung/gray_leaf_spot', '/content/drive/MyDrive/Komputasi pararel UAS duatama/Datasets/data jagung/gray_leaf_spot', '/content/drive/MyDrive/Komputasi pararel UAS duatama/Datasets/data jagung/gray_leaf_spot', '/content/drive/MyDrive/Komputasi pararel UAS duatama/Datasets/data jagung/gray_leaf_spot', '/content/drive/MyDrive/Komputasi pararel UAS duatama/Datasets/data jagung/gray_leaf_spot', '/content/drive/MyDrive/Komputasi pararel UAS duatama/Datasets/data jagung/gray_leaf_spot', '/content/drive/MyDrive/Komputasi pararel UAS duatama/Datasets/data jagung/gray_leaf_spot', '/content/drive/MyDrive/Komputasi pararel UAS duatama/Datasets/data jagung/gray_leaf_spot', '/content/drive/MyDrive/Komputasi pararel UAS duatama/Datasets/data jagung/gray_leaf_spot', '/content/drive/MyDrive/Komputasi pararel UAS duatama/Datasets/data jagung/gray_leaf_spot', '/content/drive/MyDrive/Komputasi pararel UAS duatama/Datasets/data jagung/gray_leaf_spot', '/content/drive/MyDrive/Komputasi pararel UAS duatama/Datasets/data jagung/gray_leaf_spot', '/content/drive/MyDrive/Komputasi pararel UAS duatama/Datasets/data jagung/gray_leaf_spot', '/content/drive/MyDrive/Komputasi pararel UAS duatama/Datasets/data jagung/gray_leaf_spot', '/content/drive/MyDrive/Komputasi pararel UAS duatama/Datasets/data jagung/gray_leaf_spot', '/content/drive/MyDrive/Komputasi pararel UAS duatama/Datasets/data jagung/gray_leaf_spot', '/content/drive/MyDrive/Komputasi pararel UAS duatama/Datasets/data jagung/gray_leaf_spot', '/content/drive/MyDrive/Komputasi pararel UAS duatama/Datasets/data jagung/gray_leaf_spot', '/content/drive/MyDrive/Komputasi pararel UAS duatama/Datasets/data jagung/gray_leaf_spot', '/content/drive/MyDrive/Komputasi pararel UAS duatama/Datasets/data jagung/gray_leaf_spot', '/content/drive/MyDrive/Komputasi pararel UAS duatama/Datasets/data jagung/gray_leaf_spot', '/content/drive/MyDrive/Komputasi pararel UAS duatama/Datasets/data jagung/gray_leaf_spot', '/content/drive/MyDrive/Komputasi pararel UAS duatama/Datasets/data jagung/gray_leaf_spot', '/content/drive/MyDrive/Komputasi pararel UAS duatama/Datasets/data jagung/gray_leaf_spot', '/content/drive/MyDrive/Komputasi pararel UAS duatama/Datasets/data jagung/gray_leaf_spot', '/content/drive/MyDrive/Komputasi pararel UAS duatama/Datasets/data jagung/gray_leaf_spot', '/content/drive/MyDrive/Komputasi pararel UAS duatama/Datasets/data jagung/gray_leaf_spot', '/content/drive/MyDrive/Komputasi pararel UAS duatama/Datasets/data jagung/gray_leaf_spot', '/content/drive/MyDrive/Komputasi pararel UAS duatama/Datasets/data jagung/gray_leaf_spot', '/content/drive/MyDrive/Komputasi pararel UAS duatama/Datasets/data jagung/gray_leaf_spot', '/content/drive/MyDrive/Komputasi pararel UAS duatama/Datasets/data jagung/gray_leaf_spot', '/content/drive/MyDrive/Komputasi pararel UAS duatama/Datasets/data jagung/gray_leaf_spot', '/content/drive/MyDrive/Komputasi pararel UAS duatama/Datasets/data jagung/gray_leaf_spot', '/content/drive/MyDrive/Komputasi pararel UAS duatama/Datasets/data jagung/gray_leaf_spot', '/content/drive/MyDrive/Komputasi pararel UAS duatama/Datasets/data jagung/gray_leaf_spot', '/content/drive/MyDrive/Komputasi pararel UAS duatama/Datasets/data jagung/gray_leaf_spot', '/content/drive/MyDrive/Komputasi pararel UAS duatama/Datasets/data jagung/gray_leaf_spot', '/content/drive/MyDrive/Komputasi pararel UAS duatama/Datasets/data jagung/gray_leaf_spot', '/content/drive/MyDrive/Komputasi pararel UAS duatama/Datasets/data jagung/gray_leaf_spot', '/content/drive/MyDrive/Komputasi pararel UAS duatama/Datasets/data jagung/gray_leaf_spot', '/content/drive/MyDrive/Komputasi pararel UAS duatama/Datasets/data jagung/gray_leaf_spot', '/content/drive/MyDrive/Komputasi pararel UAS duatama/Datasets/data jagung/gray_leaf_spot', '/content/drive/MyDrive/Komputasi pararel UAS duatama/Datasets/data jagung/gray_leaf_spot', '/content/drive/MyDrive/Komputasi pararel UAS duatama/Datasets/data jagung/gray_leaf_spot', '/content/drive/MyDrive/Komputasi pararel UAS duatama/Datasets/data jagung/gray_leaf_spot', '/content/drive/MyDrive/Komputasi pararel UAS duatama/Datasets/data jagung/gray_leaf_spot', '/content/drive/MyDrive/Komputasi pararel UAS duatama/Datasets/data jagung/gray_leaf_spot', '/content/drive/MyDrive/Komputasi pararel UAS duatama/Datasets/data jagung/gray_leaf_spot', '/content/drive/MyDrive/Komputasi pararel UAS duatama/Datasets/data jagung/gray_leaf_spot', '/content/drive/MyDrive/Komputasi pararel UAS duatama/Datasets/data jagung/gray_leaf_spot', '/content/drive/MyDrive/Komputasi pararel UAS duatama/Datasets/data jagung/gray_leaf_spot', '/content/drive/MyDrive/Komputasi pararel UAS duatama/Datasets/data jagung/gray_leaf_spot', '/content/drive/MyDrive/Komputasi pararel UAS duatama/Datasets/data jagung/gray_leaf_spot', '/content/drive/MyDrive/Komputasi pararel UAS duatama/Datasets/data jagung/gray_leaf_spot', '/content/drive/MyDrive/Komputasi pararel UAS duatama/Datasets/data jagung/gray_leaf_spot', '/content/drive/MyDrive/Komputasi pararel UAS duatama/Datasets/data jagung/gray_leaf_spot', '/content/drive/MyDrive/Komputasi pararel UAS duatama/Datasets/data jagung/gray_leaf_spot', '/content/drive/MyDrive/Komputasi pararel UAS duatama/Datasets/data jagung/gray_leaf_spot', '/content/drive/MyDrive/Komputasi pararel UAS duatama/Datasets/data jagung/gray_leaf_spot', '/content/drive/MyDrive/Komputasi pararel UAS duatama/Datasets/data jagung/gray_leaf_spot', '/content/drive/MyDrive/Komputasi pararel UAS duatama/Datasets/data jagung/gray_leaf_spot', '/content/drive/MyDrive/Komputasi pararel UAS duatama/Datasets/data jagung/gray_leaf_spot', '/content/drive/MyDrive/Komputasi pararel UAS duatama/Datasets/data jagung/gray_leaf_spot', '/content/drive/MyDrive/Komputasi pararel UAS duatama/Datasets/data jagung/gray_leaf_spot', '/content/drive/MyDrive/Komputasi pararel UAS duatama/Datasets/data jagung/gray_leaf_spot', '/content/drive/MyDrive/Komputasi pararel UAS duatama/Datasets/data jagung/gray_leaf_spot', '/content/drive/MyDrive/Komputasi pararel UAS duatama/Datasets/data jagung/gray_leaf_spot', '/content/drive/MyDrive/Komputasi pararel UAS duatama/Datasets/data jagung/gray_leaf_spot', '/content/drive/MyDrive/Komputasi pararel UAS duatama/Datasets/data jagung/gray_leaf_spot', '/content/drive/MyDrive/Komputasi pararel UAS duatama/Datasets/data jagung/gray_leaf_spot', '/content/drive/MyDrive/Komputasi pararel UAS duatama/Datasets/data jagung/gray_leaf_spot', '/content/drive/MyDrive/Komputasi pararel UAS duatama/Datasets/data jagung/gray_leaf_spot', '/content/drive/MyDrive/Komputasi pararel UAS duatama/Datasets/data jagung/gray_leaf_spot', '/content/drive/MyDrive/Komputasi pararel UAS duatama/Datasets/data jagung/gray_leaf_spot', '/content/drive/MyDrive/Komputasi pararel UAS duatama/Datasets/data jagung/gray_leaf_spot', '/content/drive/MyDrive/Komputasi pararel UAS duatama/Datasets/data jagung/gray_leaf_spot', '/content/drive/MyDrive/Komputasi pararel UAS duatama/Datasets/data jagung/gray_leaf_spot', '/content/drive/MyDrive/Komputasi pararel UAS duatama/Datasets/data jagung/gray_leaf_spot', '/content/drive/MyDrive/Komputasi pararel UAS duatama/Datasets/data jagung/gray_leaf_spot', '/content/drive/MyDrive/Komputasi pararel UAS duatama/Datasets/data jagung/gray_leaf_spot', '/content/drive/MyDrive/Komputasi pararel UAS duatama/Datasets/data jagung/gray_leaf_spot', '/content/drive/MyDrive/Komputasi pararel UAS duatama/Datasets/data jagung/gray_leaf_spot', '/content/drive/MyDrive/Komputasi pararel UAS duatama/Datasets/data jagung/gray_leaf_spot', '/content/drive/MyDrive/Komputasi pararel UAS duatama/Datasets/data jagung/gray_leaf_spot', '/content/drive/MyDrive/Komputasi pararel UAS duatama/Datasets/data jagung/gray_leaf_spot', '/content/drive/MyDrive/Komputasi pararel UAS duatama/Datasets/data jagung/gray_leaf_spot', '/content/drive/MyDrive/Komputasi pararel UAS duatama/Datasets/data jagung/gray_leaf_spot', '/content/drive/MyDrive/Komputasi pararel UAS duatama/Datasets/data jagung/gray_leaf_spot', '/content/drive/MyDrive/Komputasi pararel UAS duatama/Datasets/data jagung/gray_leaf_spot', '/content/drive/MyDrive/Komputasi pararel UAS duatama/Datasets/data jagung/gray_leaf_spot', '/content/drive/MyDrive/Komputasi pararel UAS duatama/Datasets/data jagung/gray_leaf_spot', '/content/drive/MyDrive/Komputasi pararel UAS duatama/Datasets/data jagung/gray_leaf_spot', '/content/drive/MyDrive/Komputasi pararel UAS duatama/Datasets/data jagung/gray_leaf_spot', '/content/drive/MyDrive/Komputasi pararel UAS duatama/Datasets/data jagung/Sehat', '/content/drive/MyDrive/Komputasi pararel UAS duatama/Datasets/data jagung/Sehat', '/content/drive/MyDrive/Komputasi pararel UAS duatama/Datasets/data jagung/Sehat', '/content/drive/MyDrive/Komputasi pararel UAS duatama/Datasets/data jagung/Sehat', '/content/drive/MyDrive/Komputasi pararel UAS duatama/Datasets/data jagung/Sehat', '/content/drive/MyDrive/Komputasi pararel UAS duatama/Datasets/data jagung/Sehat', '/content/drive/MyDrive/Komputasi pararel UAS duatama/Datasets/data jagung/Sehat', '/content/drive/MyDrive/Komputasi pararel UAS duatama/Datasets/data jagung/Sehat', '/content/drive/MyDrive/Komputasi pararel UAS duatama/Datasets/data jagung/Sehat', '/content/drive/MyDrive/Komputasi pararel UAS duatama/Datasets/data jagung/Sehat', '/content/drive/MyDrive/Komputasi pararel UAS duatama/Datasets/data jagung/Sehat', '/content/drive/MyDrive/Komputasi pararel UAS duatama/Datasets/data jagung/Sehat', '/content/drive/MyDrive/Komputasi pararel UAS duatama/Datasets/data jagung/Sehat', '/content/drive/MyDrive/Komputasi pararel UAS duatama/Datasets/data jagung/Sehat', '/content/drive/MyDrive/Komputasi pararel UAS duatama/Datasets/data jagung/Sehat', '/content/drive/MyDrive/Komputasi pararel UAS duatama/Datasets/data jagung/Sehat', '/content/drive/MyDrive/Komputasi pararel UAS duatama/Datasets/data jagung/Sehat', '/content/drive/MyDrive/Komputasi pararel UAS duatama/Datasets/data jagung/Sehat', '/content/drive/MyDrive/Komputasi pararel UAS duatama/Datasets/data jagung/Sehat', '/content/drive/MyDrive/Komputasi pararel UAS duatama/Datasets/data jagung/Sehat', '/content/drive/MyDrive/Komputasi pararel UAS duatama/Datasets/data jagung/Sehat', '/content/drive/MyDrive/Komputasi pararel UAS duatama/Datasets/data jagung/Sehat', '/content/drive/MyDrive/Komputasi pararel UAS duatama/Datasets/data jagung/Sehat', '/content/drive/MyDrive/Komputasi pararel UAS duatama/Datasets/data jagung/Sehat', '/content/drive/MyDrive/Komputasi pararel UAS duatama/Datasets/data jagung/Sehat', '/content/drive/MyDrive/Komputasi pararel UAS duatama/Datasets/data jagung/Sehat', '/content/drive/MyDrive/Komputasi pararel UAS duatama/Datasets/data jagung/Sehat', '/content/drive/MyDrive/Komputasi pararel UAS duatama/Datasets/data jagung/Sehat', '/content/drive/MyDrive/Komputasi pararel UAS duatama/Datasets/data jagung/Sehat', '/content/drive/MyDrive/Komputasi pararel UAS duatama/Datasets/data jagung/Sehat', '/content/drive/MyDrive/Komputasi pararel UAS duatama/Datasets/data jagung/Sehat', '/content/drive/MyDrive/Komputasi pararel UAS duatama/Datasets/data jagung/Sehat', '/content/drive/MyDrive/Komputasi pararel UAS duatama/Datasets/data jagung/Sehat', '/content/drive/MyDrive/Komputasi pararel UAS duatama/Datasets/data jagung/Sehat', '/content/drive/MyDrive/Komputasi pararel UAS duatama/Datasets/data jagung/Sehat', '/content/drive/MyDrive/Komputasi pararel UAS duatama/Datasets/data jagung/Sehat', '/content/drive/MyDrive/Komputasi pararel UAS duatama/Datasets/data jagung/Sehat', '/content/drive/MyDrive/Komputasi pararel UAS duatama/Datasets/data jagung/Sehat', '/content/drive/MyDrive/Komputasi pararel UAS duatama/Datasets/data jagung/Sehat', '/content/drive/MyDrive/Komputasi pararel UAS duatama/Datasets/data jagung/Sehat', '/content/drive/MyDrive/Komputasi pararel UAS duatama/Datasets/data jagung/Sehat', '/content/drive/MyDrive/Komputasi pararel UAS duatama/Datasets/data jagung/Sehat', '/content/drive/MyDrive/Komputasi pararel UAS duatama/Datasets/data jagung/Sehat', '/content/drive/MyDrive/Komputasi pararel UAS duatama/Datasets/data jagung/Sehat', '/content/drive/MyDrive/Komputasi pararel UAS duatama/Datasets/data jagung/Sehat', '/content/drive/MyDrive/Komputasi pararel UAS duatama/Datasets/data jagung/Sehat', '/content/drive/MyDrive/Komputasi pararel UAS duatama/Datasets/data jagung/Sehat', '/content/drive/MyDrive/Komputasi pararel UAS duatama/Datasets/data jagung/Sehat', '/content/drive/MyDrive/Komputasi pararel UAS duatama/Datasets/data jagung/Sehat', '/content/drive/MyDrive/Komputasi pararel UAS duatama/Datasets/data jagung/Sehat', '/content/drive/MyDrive/Komputasi pararel UAS duatama/Datasets/data jagung/Sehat', '/content/drive/MyDrive/Komputasi pararel UAS duatama/Datasets/data jagung/Sehat', '/content/drive/MyDrive/Komputasi pararel UAS duatama/Datasets/data jagung/Sehat', '/content/drive/MyDrive/Komputasi pararel UAS duatama/Datasets/data jagung/Sehat', '/content/drive/MyDrive/Komputasi pararel UAS duatama/Datasets/data jagung/Sehat', '/content/drive/MyDrive/Komputasi pararel UAS duatama/Datasets/data jagung/Sehat', '/content/drive/MyDrive/Komputasi pararel UAS duatama/Datasets/data jagung/Sehat', '/content/drive/MyDrive/Komputasi pararel UAS duatama/Datasets/data jagung/Sehat', '/content/drive/MyDrive/Komputasi pararel UAS duatama/Datasets/data jagung/Sehat', '/content/drive/MyDrive/Komputasi pararel UAS duatama/Datasets/data jagung/Sehat', '/content/drive/MyDrive/Komputasi pararel UAS duatama/Datasets/data jagung/Sehat', '/content/drive/MyDrive/Komputasi pararel UAS duatama/Datasets/data jagung/Sehat', '/content/drive/MyDrive/Komputasi pararel UAS duatama/Datasets/data jagung/Sehat', '/content/drive/MyDrive/Komputasi pararel UAS duatama/Datasets/data jagung/Sehat', '/content/drive/MyDrive/Komputasi pararel UAS duatama/Datasets/data jagung/Sehat', '/content/drive/MyDrive/Komputasi pararel UAS duatama/Datasets/data jagung/Sehat', '/content/drive/MyDrive/Komputasi pararel UAS duatama/Datasets/data jagung/Sehat', '/content/drive/MyDrive/Komputasi pararel UAS duatama/Datasets/data jagung/Sehat', '/content/drive/MyDrive/Komputasi pararel UAS duatama/Datasets/data jagung/Sehat', '/content/drive/MyDrive/Komputasi pararel UAS duatama/Datasets/data jagung/Sehat', '/content/drive/MyDrive/Komputasi pararel UAS duatama/Datasets/data jagung/Sehat', '/content/drive/MyDrive/Komputasi pararel UAS duatama/Datasets/data jagung/Sehat', '/content/drive/MyDrive/Komputasi pararel UAS duatama/Datasets/data jagung/Sehat', '/content/drive/MyDrive/Komputasi pararel UAS duatama/Datasets/data jagung/Sehat', '/content/drive/MyDrive/Komputasi pararel UAS duatama/Datasets/data jagung/Sehat', '/content/drive/MyDrive/Komputasi pararel UAS duatama/Datasets/data jagung/Sehat', '/content/drive/MyDrive/Komputasi pararel UAS duatama/Datasets/data jagung/Sehat', '/content/drive/MyDrive/Komputasi pararel UAS duatama/Datasets/data jagung/Sehat', '/content/drive/MyDrive/Komputasi pararel UAS duatama/Datasets/data jagung/Sehat', '/content/drive/MyDrive/Komputasi pararel UAS duatama/Datasets/data jagung/Sehat', '/content/drive/MyDrive/Komputasi pararel UAS duatama/Datasets/data jagung/Sehat', '/content/drive/MyDrive/Komputasi pararel UAS duatama/Datasets/data jagung/Sehat', '/content/drive/MyDrive/Komputasi pararel UAS duatama/Datasets/data jagung/Sehat', '/content/drive/MyDrive/Komputasi pararel UAS duatama/Datasets/data jagung/Sehat', '/content/drive/MyDrive/Komputasi pararel UAS duatama/Datasets/data jagung/Sehat', '/content/drive/MyDrive/Komputasi pararel UAS duatama/Datasets/data jagung/Sehat', '/content/drive/MyDrive/Komputasi pararel UAS duatama/Datasets/data jagung/Sehat', '/content/drive/MyDrive/Komputasi pararel UAS duatama/Datasets/data jagung/Sehat', '/content/drive/MyDrive/Komputasi pararel UAS duatama/Datasets/data jagung/Sehat', '/content/drive/MyDrive/Komputasi pararel UAS duatama/Datasets/data jagung/Sehat', '/content/drive/MyDrive/Komputasi pararel UAS duatama/Datasets/data jagung/Sehat', '/content/drive/MyDrive/Komputasi pararel UAS duatama/Datasets/data jagung/Sehat', '/content/drive/MyDrive/Komputasi pararel UAS duatama/Datasets/data jagung/Sehat', '/content/drive/MyDrive/Komputasi pararel UAS duatama/Datasets/data jagung/Sehat', '/content/drive/MyDrive/Komputasi pararel UAS duatama/Datasets/data jagung/Sehat', '/content/drive/MyDrive/Komputasi pararel UAS duatama/Datasets/data jagung/Sehat', '/content/drive/MyDrive/Komputasi pararel UAS duatama/Datasets/data jagung/Sehat', '/content/drive/MyDrive/Komputasi pararel UAS duatama/Datasets/data jagung/Sehat', '/content/drive/MyDrive/Komputasi pararel UAS duatama/Datasets/data jagung/Sehat', '/content/drive/MyDrive/Komputasi pararel UAS duatama/Datasets/data jagung/Sehat', '/content/drive/MyDrive/Komputasi pararel UAS duatama/Datasets/data jagung/Sehat', '/content/drive/MyDrive/Komputasi pararel UAS duatama/Datasets/data jagung/Sehat', '/content/drive/MyDrive/Komputasi pararel UAS duatama/Datasets/data jagung/Sehat', '/content/drive/MyDrive/Komputasi pararel UAS duatama/Datasets/data jagung/Sehat', '/content/drive/MyDrive/Komputasi pararel UAS duatama/Datasets/data jagung/Sehat', '/content/drive/MyDrive/Komputasi pararel UAS duatama/Datasets/data jagung/Sehat', '/content/drive/MyDrive/Komputasi pararel UAS duatama/Datasets/data jagung/Sehat', '/content/drive/MyDrive/Komputasi pararel UAS duatama/Datasets/data jagung/Sehat', '/content/drive/MyDrive/Komputasi pararel UAS duatama/Datasets/data jagung/Sehat', '/content/drive/MyDrive/Komputasi pararel UAS duatama/Datasets/data jagung/Sehat', '/content/drive/MyDrive/Komputasi pararel UAS duatama/Datasets/data jagung/Sehat', '/content/drive/MyDrive/Komputasi pararel UAS duatama/Datasets/data jagung/Sehat', '/content/drive/MyDrive/Komputasi pararel UAS duatama/Datasets/data jagung/Sehat', '/content/drive/MyDrive/Komputasi pararel UAS duatama/Datasets/data jagung/Sehat', '/content/drive/MyDrive/Komputasi pararel UAS duatama/Datasets/data jagung/Sehat', '/content/drive/MyDrive/Komputasi pararel UAS duatama/Datasets/data jagung/Sehat', '/content/drive/MyDrive/Komputasi pararel UAS duatama/Datasets/data jagung/Sehat', '/content/drive/MyDrive/Komputasi pararel UAS duatama/Datasets/data jagung/blight', '/content/drive/MyDrive/Komputasi pararel UAS duatama/Datasets/data jagung/blight', '/content/drive/MyDrive/Komputasi pararel UAS duatama/Datasets/data jagung/blight', '/content/drive/MyDrive/Komputasi pararel UAS duatama/Datasets/data jagung/blight', '/content/drive/MyDrive/Komputasi pararel UAS duatama/Datasets/data jagung/blight', '/content/drive/MyDrive/Komputasi pararel UAS duatama/Datasets/data jagung/blight', '/content/drive/MyDrive/Komputasi pararel UAS duatama/Datasets/data jagung/blight', '/content/drive/MyDrive/Komputasi pararel UAS duatama/Datasets/data jagung/blight', '/content/drive/MyDrive/Komputasi pararel UAS duatama/Datasets/data jagung/blight', '/content/drive/MyDrive/Komputasi pararel UAS duatama/Datasets/data jagung/blight', '/content/drive/MyDrive/Komputasi pararel UAS duatama/Datasets/data jagung/blight', '/content/drive/MyDrive/Komputasi pararel UAS duatama/Datasets/data jagung/blight', '/content/drive/MyDrive/Komputasi pararel UAS duatama/Datasets/data jagung/blight', '/content/drive/MyDrive/Komputasi pararel UAS duatama/Datasets/data jagung/blight', '/content/drive/MyDrive/Komputasi pararel UAS duatama/Datasets/data jagung/blight', '/content/drive/MyDrive/Komputasi pararel UAS duatama/Datasets/data jagung/blight', '/content/drive/MyDrive/Komputasi pararel UAS duatama/Datasets/data jagung/blight', '/content/drive/MyDrive/Komputasi pararel UAS duatama/Datasets/data jagung/blight', '/content/drive/MyDrive/Komputasi pararel UAS duatama/Datasets/data jagung/blight', '/content/drive/MyDrive/Komputasi pararel UAS duatama/Datasets/data jagung/blight', '/content/drive/MyDrive/Komputasi pararel UAS duatama/Datasets/data jagung/blight', '/content/drive/MyDrive/Komputasi pararel UAS duatama/Datasets/data jagung/blight', '/content/drive/MyDrive/Komputasi pararel UAS duatama/Datasets/data jagung/blight', '/content/drive/MyDrive/Komputasi pararel UAS duatama/Datasets/data jagung/blight', '/content/drive/MyDrive/Komputasi pararel UAS duatama/Datasets/data jagung/blight', '/content/drive/MyDrive/Komputasi pararel UAS duatama/Datasets/data jagung/blight', '/content/drive/MyDrive/Komputasi pararel UAS duatama/Datasets/data jagung/blight', '/content/drive/MyDrive/Komputasi pararel UAS duatama/Datasets/data jagung/blight', '/content/drive/MyDrive/Komputasi pararel UAS duatama/Datasets/data jagung/blight', '/content/drive/MyDrive/Komputasi pararel UAS duatama/Datasets/data jagung/blight', '/content/drive/MyDrive/Komputasi pararel UAS duatama/Datasets/data jagung/blight', '/content/drive/MyDrive/Komputasi pararel UAS duatama/Datasets/data jagung/blight', '/content/drive/MyDrive/Komputasi pararel UAS duatama/Datasets/data jagung/blight', '/content/drive/MyDrive/Komputasi pararel UAS duatama/Datasets/data jagung/blight', '/content/drive/MyDrive/Komputasi pararel UAS duatama/Datasets/data jagung/blight', '/content/drive/MyDrive/Komputasi pararel UAS duatama/Datasets/data jagung/blight', '/content/drive/MyDrive/Komputasi pararel UAS duatama/Datasets/data jagung/blight', '/content/drive/MyDrive/Komputasi pararel UAS duatama/Datasets/data jagung/blight', '/content/drive/MyDrive/Komputasi pararel UAS duatama/Datasets/data jagung/blight', '/content/drive/MyDrive/Komputasi pararel UAS duatama/Datasets/data jagung/blight', '/content/drive/MyDrive/Komputasi pararel UAS duatama/Datasets/data jagung/blight', '/content/drive/MyDrive/Komputasi pararel UAS duatama/Datasets/data jagung/blight', '/content/drive/MyDrive/Komputasi pararel UAS duatama/Datasets/data jagung/blight', '/content/drive/MyDrive/Komputasi pararel UAS duatama/Datasets/data jagung/blight', '/content/drive/MyDrive/Komputasi pararel UAS duatama/Datasets/data jagung/blight', '/content/drive/MyDrive/Komputasi pararel UAS duatama/Datasets/data jagung/blight', '/content/drive/MyDrive/Komputasi pararel UAS duatama/Datasets/data jagung/blight', '/content/drive/MyDrive/Komputasi pararel UAS duatama/Datasets/data jagung/blight', '/content/drive/MyDrive/Komputasi pararel UAS duatama/Datasets/data jagung/blight', '/content/drive/MyDrive/Komputasi pararel UAS duatama/Datasets/data jagung/blight', '/content/drive/MyDrive/Komputasi pararel UAS duatama/Datasets/data jagung/blight', '/content/drive/MyDrive/Komputasi pararel UAS duatama/Datasets/data jagung/blight', '/content/drive/MyDrive/Komputasi pararel UAS duatama/Datasets/data jagung/blight', '/content/drive/MyDrive/Komputasi pararel UAS duatama/Datasets/data jagung/blight', '/content/drive/MyDrive/Komputasi pararel UAS duatama/Datasets/data jagung/blight', '/content/drive/MyDrive/Komputasi pararel UAS duatama/Datasets/data jagung/blight', '/content/drive/MyDrive/Komputasi pararel UAS duatama/Datasets/data jagung/blight', '/content/drive/MyDrive/Komputasi pararel UAS duatama/Datasets/data jagung/blight', '/content/drive/MyDrive/Komputasi pararel UAS duatama/Datasets/data jagung/blight', '/content/drive/MyDrive/Komputasi pararel UAS duatama/Datasets/data jagung/blight', '/content/drive/MyDrive/Komputasi pararel UAS duatama/Datasets/data jagung/blight', '/content/drive/MyDrive/Komputasi pararel UAS duatama/Datasets/data jagung/blight', '/content/drive/MyDrive/Komputasi pararel UAS duatama/Datasets/data jagung/blight', '/content/drive/MyDrive/Komputasi pararel UAS duatama/Datasets/data jagung/blight', '/content/drive/MyDrive/Komputasi pararel UAS duatama/Datasets/data jagung/blight', '/content/drive/MyDrive/Komputasi pararel UAS duatama/Datasets/data jagung/blight', '/content/drive/MyDrive/Komputasi pararel UAS duatama/Datasets/data jagung/blight', '/content/drive/MyDrive/Komputasi pararel UAS duatama/Datasets/data jagung/blight', '/content/drive/MyDrive/Komputasi pararel UAS duatama/Datasets/data jagung/blight', '/content/drive/MyDrive/Komputasi pararel UAS duatama/Datasets/data jagung/blight', '/content/drive/MyDrive/Komputasi pararel UAS duatama/Datasets/data jagung/blight', '/content/drive/MyDrive/Komputasi pararel UAS duatama/Datasets/data jagung/blight', '/content/drive/MyDrive/Komputasi pararel UAS duatama/Datasets/data jagung/blight', '/content/drive/MyDrive/Komputasi pararel UAS duatama/Datasets/data jagung/blight', '/content/drive/MyDrive/Komputasi pararel UAS duatama/Datasets/data jagung/blight', '/content/drive/MyDrive/Komputasi pararel UAS duatama/Datasets/data jagung/blight', '/content/drive/MyDrive/Komputasi pararel UAS duatama/Datasets/data jagung/blight', '/content/drive/MyDrive/Komputasi pararel UAS duatama/Datasets/data jagung/blight', '/content/drive/MyDrive/Komputasi pararel UAS duatama/Datasets/data jagung/blight', '/content/drive/MyDrive/Komputasi pararel UAS duatama/Datasets/data jagung/blight', '/content/drive/MyDrive/Komputasi pararel UAS duatama/Datasets/data jagung/blight', '/content/drive/MyDrive/Komputasi pararel UAS duatama/Datasets/data jagung/blight', '/content/drive/MyDrive/Komputasi pararel UAS duatama/Datasets/data jagung/blight', '/content/drive/MyDrive/Komputasi pararel UAS duatama/Datasets/data jagung/blight', '/content/drive/MyDrive/Komputasi pararel UAS duatama/Datasets/data jagung/blight', '/content/drive/MyDrive/Komputasi pararel UAS duatama/Datasets/data jagung/blight', '/content/drive/MyDrive/Komputasi pararel UAS duatama/Datasets/data jagung/blight', '/content/drive/MyDrive/Komputasi pararel UAS duatama/Datasets/data jagung/blight', '/content/drive/MyDrive/Komputasi pararel UAS duatama/Datasets/data jagung/blight', '/content/drive/MyDrive/Komputasi pararel UAS duatama/Datasets/data jagung/blight', '/content/drive/MyDrive/Komputasi pararel UAS duatama/Datasets/data jagung/blight', '/content/drive/MyDrive/Komputasi pararel UAS duatama/Datasets/data jagung/blight', '/content/drive/MyDrive/Komputasi pararel UAS duatama/Datasets/data jagung/blight', '/content/drive/MyDrive/Komputasi pararel UAS duatama/Datasets/data jagung/blight', '/content/drive/MyDrive/Komputasi pararel UAS duatama/Datasets/data jagung/blight', '/content/drive/MyDrive/Komputasi pararel UAS duatama/Datasets/data jagung/blight', '/content/drive/MyDrive/Komputasi pararel UAS duatama/Datasets/data jagung/blight', '/content/drive/MyDrive/Komputasi pararel UAS duatama/Datasets/data jagung/blight', '/content/drive/MyDrive/Komputasi pararel UAS duatama/Datasets/data jagung/blight', '/content/drive/MyDrive/Komputasi pararel UAS duatama/Datasets/data jagung/blight', '/content/drive/MyDrive/Komputasi pararel UAS duatama/Datasets/data jagung/blight', '/content/drive/MyDrive/Komputasi pararel UAS duatama/Datasets/data jagung/blight', '/content/drive/MyDrive/Komputasi pararel UAS duatama/Datasets/data jagung/blight', '/content/drive/MyDrive/Komputasi pararel UAS duatama/Datasets/data jagung/blight', '/content/drive/MyDrive/Komputasi pararel UAS duatama/Datasets/data jagung/blight', '/content/drive/MyDrive/Komputasi pararel UAS duatama/Datasets/data jagung/blight', '/content/drive/MyDrive/Komputasi pararel UAS duatama/Datasets/data jagung/blight', '/content/drive/MyDrive/Komputasi pararel UAS duatama/Datasets/data jagung/blight', '/content/drive/MyDrive/Komputasi pararel UAS duatama/Datasets/data jagung/common_rust', '/content/drive/MyDrive/Komputasi pararel UAS duatama/Datasets/data jagung/common_rust', '/content/drive/MyDrive/Komputasi pararel UAS duatama/Datasets/data jagung/common_rust', '/content/drive/MyDrive/Komputasi pararel UAS duatama/Datasets/data jagung/common_rust', '/content/drive/MyDrive/Komputasi pararel UAS duatama/Datasets/data jagung/common_rust', '/content/drive/MyDrive/Komputasi pararel UAS duatama/Datasets/data jagung/common_rust', '/content/drive/MyDrive/Komputasi pararel UAS duatama/Datasets/data jagung/common_rust', '/content/drive/MyDrive/Komputasi pararel UAS duatama/Datasets/data jagung/common_rust', '/content/drive/MyDrive/Komputasi pararel UAS duatama/Datasets/data jagung/common_rust', '/content/drive/MyDrive/Komputasi pararel UAS duatama/Datasets/data jagung/common_rust', '/content/drive/MyDrive/Komputasi pararel UAS duatama/Datasets/data jagung/common_rust', '/content/drive/MyDrive/Komputasi pararel UAS duatama/Datasets/data jagung/common_rust', '/content/drive/MyDrive/Komputasi pararel UAS duatama/Datasets/data jagung/common_rust', '/content/drive/MyDrive/Komputasi pararel UAS duatama/Datasets/data jagung/common_rust', '/content/drive/MyDrive/Komputasi pararel UAS duatama/Datasets/data jagung/common_rust', '/content/drive/MyDrive/Komputasi pararel UAS duatama/Datasets/data jagung/common_rust', '/content/drive/MyDrive/Komputasi pararel UAS duatama/Datasets/data jagung/common_rust', '/content/drive/MyDrive/Komputasi pararel UAS duatama/Datasets/data jagung/common_rust', '/content/drive/MyDrive/Komputasi pararel UAS duatama/Datasets/data jagung/common_rust', '/content/drive/MyDrive/Komputasi pararel UAS duatama/Datasets/data jagung/common_rust', '/content/drive/MyDrive/Komputasi pararel UAS duatama/Datasets/data jagung/common_rust', '/content/drive/MyDrive/Komputasi pararel UAS duatama/Datasets/data jagung/common_rust', '/content/drive/MyDrive/Komputasi pararel UAS duatama/Datasets/data jagung/common_rust', '/content/drive/MyDrive/Komputasi pararel UAS duatama/Datasets/data jagung/common_rust', '/content/drive/MyDrive/Komputasi pararel UAS duatama/Datasets/data jagung/common_rust', '/content/drive/MyDrive/Komputasi pararel UAS duatama/Datasets/data jagung/common_rust', '/content/drive/MyDrive/Komputasi pararel UAS duatama/Datasets/data jagung/common_rust', '/content/drive/MyDrive/Komputasi pararel UAS duatama/Datasets/data jagung/common_rust', '/content/drive/MyDrive/Komputasi pararel UAS duatama/Datasets/data jagung/common_rust', '/content/drive/MyDrive/Komputasi pararel UAS duatama/Datasets/data jagung/common_rust', '/content/drive/MyDrive/Komputasi pararel UAS duatama/Datasets/data jagung/common_rust', '/content/drive/MyDrive/Komputasi pararel UAS duatama/Datasets/data jagung/common_rust', '/content/drive/MyDrive/Komputasi pararel UAS duatama/Datasets/data jagung/common_rust', '/content/drive/MyDrive/Komputasi pararel UAS duatama/Datasets/data jagung/common_rust', '/content/drive/MyDrive/Komputasi pararel UAS duatama/Datasets/data jagung/common_rust', '/content/drive/MyDrive/Komputasi pararel UAS duatama/Datasets/data jagung/common_rust', '/content/drive/MyDrive/Komputasi pararel UAS duatama/Datasets/data jagung/common_rust', '/content/drive/MyDrive/Komputasi pararel UAS duatama/Datasets/data jagung/common_rust', '/content/drive/MyDrive/Komputasi pararel UAS duatama/Datasets/data jagung/common_rust', '/content/drive/MyDrive/Komputasi pararel UAS duatama/Datasets/data jagung/common_rust', '/content/drive/MyDrive/Komputasi pararel UAS duatama/Datasets/data jagung/common_rust', '/content/drive/MyDrive/Komputasi pararel UAS duatama/Datasets/data jagung/common_rust', '/content/drive/MyDrive/Komputasi pararel UAS duatama/Datasets/data jagung/common_rust', '/content/drive/MyDrive/Komputasi pararel UAS duatama/Datasets/data jagung/common_rust', '/content/drive/MyDrive/Komputasi pararel UAS duatama/Datasets/data jagung/common_rust', '/content/drive/MyDrive/Komputasi pararel UAS duatama/Datasets/data jagung/common_rust', '/content/drive/MyDrive/Komputasi pararel UAS duatama/Datasets/data jagung/common_rust', '/content/drive/MyDrive/Komputasi pararel UAS duatama/Datasets/data jagung/common_rust', '/content/drive/MyDrive/Komputasi pararel UAS duatama/Datasets/data jagung/common_rust', '/content/drive/MyDrive/Komputasi pararel UAS duatama/Datasets/data jagung/common_rust', '/content/drive/MyDrive/Komputasi pararel UAS duatama/Datasets/data jagung/common_rust', '/content/drive/MyDrive/Komputasi pararel UAS duatama/Datasets/data jagung/common_rust', '/content/drive/MyDrive/Komputasi pararel UAS duatama/Datasets/data jagung/common_rust', '/content/drive/MyDrive/Komputasi pararel UAS duatama/Datasets/data jagung/common_rust', '/content/drive/MyDrive/Komputasi pararel UAS duatama/Datasets/data jagung/common_rust', '/content/drive/MyDrive/Komputasi pararel UAS duatama/Datasets/data jagung/common_rust', '/content/drive/MyDrive/Komputasi pararel UAS duatama/Datasets/data jagung/common_rust', '/content/drive/MyDrive/Komputasi pararel UAS duatama/Datasets/data jagung/common_rust', '/content/drive/MyDrive/Komputasi pararel UAS duatama/Datasets/data jagung/common_rust', '/content/drive/MyDrive/Komputasi pararel UAS duatama/Datasets/data jagung/common_rust', '/content/drive/MyDrive/Komputasi pararel UAS duatama/Datasets/data jagung/common_rust', '/content/drive/MyDrive/Komputasi pararel UAS duatama/Datasets/data jagung/common_rust', '/content/drive/MyDrive/Komputasi pararel UAS duatama/Datasets/data jagung/common_rust', '/content/drive/MyDrive/Komputasi pararel UAS duatama/Datasets/data jagung/common_rust', '/content/drive/MyDrive/Komputasi pararel UAS duatama/Datasets/data jagung/common_rust', '/content/drive/MyDrive/Komputasi pararel UAS duatama/Datasets/data jagung/common_rust', '/content/drive/MyDrive/Komputasi pararel UAS duatama/Datasets/data jagung/common_rust', '/content/drive/MyDrive/Komputasi pararel UAS duatama/Datasets/data jagung/common_rust', '/content/drive/MyDrive/Komputasi pararel UAS duatama/Datasets/data jagung/common_rust', '/content/drive/MyDrive/Komputasi pararel UAS duatama/Datasets/data jagung/common_rust', '/content/drive/MyDrive/Komputasi pararel UAS duatama/Datasets/data jagung/common_rust', '/content/drive/MyDrive/Komputasi pararel UAS duatama/Datasets/data jagung/common_rust', '/content/drive/MyDrive/Komputasi pararel UAS duatama/Datasets/data jagung/common_rust', '/content/drive/MyDrive/Komputasi pararel UAS duatama/Datasets/data jagung/common_rust', '/content/drive/MyDrive/Komputasi pararel UAS duatama/Datasets/data jagung/common_rust', '/content/drive/MyDrive/Komputasi pararel UAS duatama/Datasets/data jagung/common_rust', '/content/drive/MyDrive/Komputasi pararel UAS duatama/Datasets/data jagung/common_rust', '/content/drive/MyDrive/Komputasi pararel UAS duatama/Datasets/data jagung/common_rust', '/content/drive/MyDrive/Komputasi pararel UAS duatama/Datasets/data jagung/common_rust', '/content/drive/MyDrive/Komputasi pararel UAS duatama/Datasets/data jagung/common_rust', '/content/drive/MyDrive/Komputasi pararel UAS duatama/Datasets/data jagung/common_rust', '/content/drive/MyDrive/Komputasi pararel UAS duatama/Datasets/data jagung/common_rust', '/content/drive/MyDrive/Komputasi pararel UAS duatama/Datasets/data jagung/common_rust', '/content/drive/MyDrive/Komputasi pararel UAS duatama/Datasets/data jagung/common_rust', '/content/drive/MyDrive/Komputasi pararel UAS duatama/Datasets/data jagung/common_rust', '/content/drive/MyDrive/Komputasi pararel UAS duatama/Datasets/data jagung/common_rust', '/content/drive/MyDrive/Komputasi pararel UAS duatama/Datasets/data jagung/common_rust', '/content/drive/MyDrive/Komputasi pararel UAS duatama/Datasets/data jagung/common_rust', '/content/drive/MyDrive/Komputasi pararel UAS duatama/Datasets/data jagung/common_rust', '/content/drive/MyDrive/Komputasi pararel UAS duatama/Datasets/data jagung/common_rust', '/content/drive/MyDrive/Komputasi pararel UAS duatama/Datasets/data jagung/common_rust', '/content/drive/MyDrive/Komputasi pararel UAS duatama/Datasets/data jagung/common_rust', '/content/drive/MyDrive/Komputasi pararel UAS duatama/Datasets/data jagung/common_rust', '/content/drive/MyDrive/Komputasi pararel UAS duatama/Datasets/data jagung/common_rust', '/content/drive/MyDrive/Komputasi pararel UAS duatama/Datasets/data jagung/common_rust', '/content/drive/MyDrive/Komputasi pararel UAS duatama/Datasets/data jagung/common_rust', '/content/drive/MyDrive/Komputasi pararel UAS duatama/Datasets/data jagung/common_rust', '/content/drive/MyDrive/Komputasi pararel UAS duatama/Datasets/data jagung/common_rust', '/content/drive/MyDrive/Komputasi pararel UAS duatama/Datasets/data jagung/common_rust', '/content/drive/MyDrive/Komputasi pararel UAS duatama/Datasets/data jagung/common_rust', '/content/drive/MyDrive/Komputasi pararel UAS duatama/Datasets/data jagung/common_rust', '/content/drive/MyDrive/Komputasi pararel UAS duatama/Datasets/data jagung/common_rust', '/content/drive/MyDrive/Komputasi pararel UAS duatama/Datasets/data jagung/common_rust', '/content/drive/MyDrive/Komputasi pararel UAS duatama/Datasets/data jagung/common_rust', '/content/drive/MyDrive/Komputasi pararel UAS duatama/Datasets/data jagung/common_rust', '/content/drive/MyDrive/Komputasi pararel UAS duatama/Datasets/data jagung/common_rust', '/content/drive/MyDrive/Komputasi pararel UAS duatama/Datasets/data jagung/common_rust', '/content/drive/MyDrive/Komputasi pararel UAS duatama/Datasets/data jagung/common_rust']\n"
          ]
        }
      ],
      "source": [
        "import os\n",
        "\n",
        "# List semua file di dalam direktori dataset\n",
        "all_files = []\n",
        "for root, dirs, files in os.walk(data_dir):\n",
        "    for file in files:\n",
        "        all_files.append(os.path.join(root))\n",
        "\n",
        "print(f\"Total files: {len(all_files)}\")\n",
        "print(all_files)  # Tampilkan  file pertama"
      ]
    },
    {
      "cell_type": "code",
      "execution_count": null,
      "metadata": {
        "id": "KZTejL4U1qvB"
      },
      "outputs": [],
      "source": [
        "# Fungsi untuk mendapatkan jalur gambar dan label\n",
        "def get_sample_per_folder(data_dir):\n",
        "    sample_data = []\n",
        "    for folder_name in os.listdir(data_dir):\n",
        "        folder_path = os.path.join(data_dir, folder_name)\n",
        "        if os.path.isdir(folder_path):  # Periksa apakah folder\n",
        "            # Cari semua gambar dalam folder\n",
        "            images = [os.path.join(folder_path, file) for file in os.listdir(folder_path)\n",
        "                      if file.endswith(('png', 'jpg', 'jpeg'))]\n",
        "            if images:\n",
        "                # Pilih satu gambar secara acak\n",
        "                sample_data.append({'label': folder_name, 'image_path': random.choice(images)})\n",
        "    return sample_data\n",
        "\n",
        "# Mendapatkan satu data sampel per folder\n",
        "sample_data = get_sample_per_folder(data_dir)\n",
        "\n",
        "# Menentukan ukuran grid berdasarkan jumlah gambar\n",
        "num_samples = len(sample_data)\n",
        "cols = 3\n",
        "rows = math.ceil(num_samples / cols)  # Hitung baris secara dinamis"
      ]
    },
    {
      "cell_type": "markdown",
      "metadata": {
        "id": "eWKDkCZP1xPQ"
      },
      "source": [
        "#Proses augmentasi"
      ]
    },
    {
      "cell_type": "code",
      "execution_count": null,
      "metadata": {
        "colab": {
          "base_uri": "https://localhost:8080/"
        },
        "id": "OkELJd664Mi8",
        "outputId": "fc6d9941-e038-4214-b976-def2704a5536"
      },
      "outputs": [
        {
          "output_type": "stream",
          "name": "stdout",
          "text": [
            "Found 355 images belonging to 4 classes.\n",
            "Found 86 images belonging to 4 classes.\n"
          ]
        }
      ],
      "source": [
        "\n",
        "\n",
        "target_size = (100, 100)\n",
        "batch_size = 128\n",
        "classes = 4\n",
        "\n",
        "train_datagen = ImageDataGenerator(\n",
        "    rescale=1./255,\n",
        "    shear_range=0.2,\n",
        "    zoom_range=0.2,\n",
        "    horizontal_flip=False,\n",
        "    validation_split=0.2\n",
        ")\n",
        "\n",
        "train_gen = train_datagen.flow_from_directory(data_dir, target_size = target_size,\n",
        "                                              shuffle = True,\n",
        "                                              batch_size = batch_size,\n",
        "                                              color_mode = \"rgb\",\n",
        "                                              class_mode = 'categorical',\n",
        "                                              subset = 'training')\n",
        "val_gen = train_datagen.flow_from_directory(data_dir, target_size,\n",
        "                                            batch_size = batch_size,\n",
        "                                            color_mode = \"rgb\",\n",
        "                                            class_mode =\"categorical\",\n",
        "                                            subset = 'validation')\n",
        "\n",
        "\n"
      ]
    },
    {
      "cell_type": "markdown",
      "metadata": {
        "id": "-lsx9ZFtlThB"
      },
      "source": [
        "# Membuat Model"
      ]
    },
    {
      "cell_type": "code",
      "execution_count": null,
      "metadata": {
        "colab": {
          "base_uri": "https://localhost:8080/"
        },
        "id": "jNHdiwvclOZG",
        "outputId": "d10dbcd4-e1b1-4df4-e7ab-0ba80094447a"
      },
      "outputs": [
        {
          "output_type": "stream",
          "name": "stderr",
          "text": [
            "/usr/local/lib/python3.11/dist-packages/keras/src/layers/convolutional/base_conv.py:107: UserWarning: Do not pass an `input_shape`/`input_dim` argument to a layer. When using Sequential models, prefer using an `Input(shape)` object as the first layer in the model instead.\n",
            "  super().__init__(activity_regularizer=activity_regularizer, **kwargs)\n"
          ]
        }
      ],
      "source": [
        "\n",
        "model = Sequential()\n",
        "\n",
        "model.add(Conv2D(32, kernel_size=3, strides=1, activation='relu', padding='same', input_shape=(100, 100, 3))) #penggunaan Relu ada disini\n",
        "model.add(MaxPooling2D(pool_size=(3, 3), strides= 2))\n",
        "\n",
        "model.add(Conv2D(64, kernel_size=3, strides=1, activation='relu', padding='same'))\n",
        "model.add(MaxPooling2D(pool_size=(2, 2), strides=2))\n",
        "\n",
        "model.add(Conv2D(64, kernel_size=3, strides=1, activation='relu', padding='same'))\n",
        "model.add(MaxPooling2D(pool_size=(2, 2), strides=2))\n",
        "\n",
        "model.add(Conv2D(128, kernel_size= 3,strides= 1, activation='relu', padding='same'))\n",
        "model.add(MaxPooling2D(pool_size=(2, 2), strides= 1))\n",
        "\n",
        "model.compile(optimizer='adam', loss='categorical_crossentropy', metrics=['accuracy'])"
      ]
    },
    {
      "cell_type": "markdown",
      "metadata": {
        "id": "60EOKIuxmcC8"
      },
      "source": [
        "# Flatten"
      ]
    },
    {
      "cell_type": "code",
      "execution_count": null,
      "metadata": {
        "id": "HUN8Ri0ElS4s"
      },
      "outputs": [],
      "source": [
        "model.add(Flatten())\n",
        "model.add(Dropout(0.3))\n",
        "model.add(Dense(256, activation='relu'))\n",
        "model.add(Dense(classes, activation='softmax'))"
      ]
    },
    {
      "cell_type": "code",
      "execution_count": null,
      "metadata": {
        "id": "oaedQGu0m_SA"
      },
      "outputs": [],
      "source": [
        "model.compile(optimizer='adam', loss='categorical_crossentropy', metrics=['accuracy'])"
      ]
    },
    {
      "cell_type": "code",
      "execution_count": null,
      "metadata": {
        "colab": {
          "base_uri": "https://localhost:8080/",
          "height": 554
        },
        "id": "824DyYZkncDB",
        "outputId": "bc849f47-fc84-4363-a163-af2720959b1a"
      },
      "outputs": [
        {
          "output_type": "display_data",
          "data": {
            "text/plain": [
              "\u001b[1mModel: \"sequential\"\u001b[0m\n"
            ],
            "text/html": [
              "<pre style=\"white-space:pre;overflow-x:auto;line-height:normal;font-family:Menlo,'DejaVu Sans Mono',consolas,'Courier New',monospace\"><span style=\"font-weight: bold\">Model: \"sequential\"</span>\n",
              "</pre>\n"
            ]
          },
          "metadata": {}
        },
        {
          "output_type": "display_data",
          "data": {
            "text/plain": [
              "┏━━━━━━━━━━━━━━━━━━━━━━━━━━━━━━━━━━━━━━┳━━━━━━━━━━━━━━━━━━━━━━━━━━━━━┳━━━━━━━━━━━━━━━━━┓\n",
              "┃\u001b[1m \u001b[0m\u001b[1mLayer (type)                        \u001b[0m\u001b[1m \u001b[0m┃\u001b[1m \u001b[0m\u001b[1mOutput Shape               \u001b[0m\u001b[1m \u001b[0m┃\u001b[1m \u001b[0m\u001b[1m        Param #\u001b[0m\u001b[1m \u001b[0m┃\n",
              "┡━━━━━━━━━━━━━━━━━━━━━━━━━━━━━━━━━━━━━━╇━━━━━━━━━━━━━━━━━━━━━━━━━━━━━╇━━━━━━━━━━━━━━━━━┩\n",
              "│ conv2d (\u001b[38;5;33mConv2D\u001b[0m)                      │ (\u001b[38;5;45mNone\u001b[0m, \u001b[38;5;34m100\u001b[0m, \u001b[38;5;34m100\u001b[0m, \u001b[38;5;34m32\u001b[0m)        │             \u001b[38;5;34m896\u001b[0m │\n",
              "├──────────────────────────────────────┼─────────────────────────────┼─────────────────┤\n",
              "│ max_pooling2d (\u001b[38;5;33mMaxPooling2D\u001b[0m)         │ (\u001b[38;5;45mNone\u001b[0m, \u001b[38;5;34m49\u001b[0m, \u001b[38;5;34m49\u001b[0m, \u001b[38;5;34m32\u001b[0m)          │               \u001b[38;5;34m0\u001b[0m │\n",
              "├──────────────────────────────────────┼─────────────────────────────┼─────────────────┤\n",
              "│ conv2d_1 (\u001b[38;5;33mConv2D\u001b[0m)                    │ (\u001b[38;5;45mNone\u001b[0m, \u001b[38;5;34m49\u001b[0m, \u001b[38;5;34m49\u001b[0m, \u001b[38;5;34m64\u001b[0m)          │          \u001b[38;5;34m18,496\u001b[0m │\n",
              "├──────────────────────────────────────┼─────────────────────────────┼─────────────────┤\n",
              "│ max_pooling2d_1 (\u001b[38;5;33mMaxPooling2D\u001b[0m)       │ (\u001b[38;5;45mNone\u001b[0m, \u001b[38;5;34m24\u001b[0m, \u001b[38;5;34m24\u001b[0m, \u001b[38;5;34m64\u001b[0m)          │               \u001b[38;5;34m0\u001b[0m │\n",
              "├──────────────────────────────────────┼─────────────────────────────┼─────────────────┤\n",
              "│ conv2d_2 (\u001b[38;5;33mConv2D\u001b[0m)                    │ (\u001b[38;5;45mNone\u001b[0m, \u001b[38;5;34m24\u001b[0m, \u001b[38;5;34m24\u001b[0m, \u001b[38;5;34m64\u001b[0m)          │          \u001b[38;5;34m36,928\u001b[0m │\n",
              "├──────────────────────────────────────┼─────────────────────────────┼─────────────────┤\n",
              "│ max_pooling2d_2 (\u001b[38;5;33mMaxPooling2D\u001b[0m)       │ (\u001b[38;5;45mNone\u001b[0m, \u001b[38;5;34m12\u001b[0m, \u001b[38;5;34m12\u001b[0m, \u001b[38;5;34m64\u001b[0m)          │               \u001b[38;5;34m0\u001b[0m │\n",
              "├──────────────────────────────────────┼─────────────────────────────┼─────────────────┤\n",
              "│ conv2d_3 (\u001b[38;5;33mConv2D\u001b[0m)                    │ (\u001b[38;5;45mNone\u001b[0m, \u001b[38;5;34m12\u001b[0m, \u001b[38;5;34m12\u001b[0m, \u001b[38;5;34m128\u001b[0m)         │          \u001b[38;5;34m73,856\u001b[0m │\n",
              "├──────────────────────────────────────┼─────────────────────────────┼─────────────────┤\n",
              "│ max_pooling2d_3 (\u001b[38;5;33mMaxPooling2D\u001b[0m)       │ (\u001b[38;5;45mNone\u001b[0m, \u001b[38;5;34m11\u001b[0m, \u001b[38;5;34m11\u001b[0m, \u001b[38;5;34m128\u001b[0m)         │               \u001b[38;5;34m0\u001b[0m │\n",
              "├──────────────────────────────────────┼─────────────────────────────┼─────────────────┤\n",
              "│ flatten (\u001b[38;5;33mFlatten\u001b[0m)                    │ (\u001b[38;5;45mNone\u001b[0m, \u001b[38;5;34m15488\u001b[0m)               │               \u001b[38;5;34m0\u001b[0m │\n",
              "├──────────────────────────────────────┼─────────────────────────────┼─────────────────┤\n",
              "│ dropout (\u001b[38;5;33mDropout\u001b[0m)                    │ (\u001b[38;5;45mNone\u001b[0m, \u001b[38;5;34m15488\u001b[0m)               │               \u001b[38;5;34m0\u001b[0m │\n",
              "├──────────────────────────────────────┼─────────────────────────────┼─────────────────┤\n",
              "│ dense (\u001b[38;5;33mDense\u001b[0m)                        │ (\u001b[38;5;45mNone\u001b[0m, \u001b[38;5;34m256\u001b[0m)                 │       \u001b[38;5;34m3,965,184\u001b[0m │\n",
              "├──────────────────────────────────────┼─────────────────────────────┼─────────────────┤\n",
              "│ dense_1 (\u001b[38;5;33mDense\u001b[0m)                      │ (\u001b[38;5;45mNone\u001b[0m, \u001b[38;5;34m4\u001b[0m)                   │           \u001b[38;5;34m1,028\u001b[0m │\n",
              "└──────────────────────────────────────┴─────────────────────────────┴─────────────────┘\n"
            ],
            "text/html": [
              "<pre style=\"white-space:pre;overflow-x:auto;line-height:normal;font-family:Menlo,'DejaVu Sans Mono',consolas,'Courier New',monospace\">┏━━━━━━━━━━━━━━━━━━━━━━━━━━━━━━━━━━━━━━┳━━━━━━━━━━━━━━━━━━━━━━━━━━━━━┳━━━━━━━━━━━━━━━━━┓\n",
              "┃<span style=\"font-weight: bold\"> Layer (type)                         </span>┃<span style=\"font-weight: bold\"> Output Shape                </span>┃<span style=\"font-weight: bold\">         Param # </span>┃\n",
              "┡━━━━━━━━━━━━━━━━━━━━━━━━━━━━━━━━━━━━━━╇━━━━━━━━━━━━━━━━━━━━━━━━━━━━━╇━━━━━━━━━━━━━━━━━┩\n",
              "│ conv2d (<span style=\"color: #0087ff; text-decoration-color: #0087ff\">Conv2D</span>)                      │ (<span style=\"color: #00d7ff; text-decoration-color: #00d7ff\">None</span>, <span style=\"color: #00af00; text-decoration-color: #00af00\">100</span>, <span style=\"color: #00af00; text-decoration-color: #00af00\">100</span>, <span style=\"color: #00af00; text-decoration-color: #00af00\">32</span>)        │             <span style=\"color: #00af00; text-decoration-color: #00af00\">896</span> │\n",
              "├──────────────────────────────────────┼─────────────────────────────┼─────────────────┤\n",
              "│ max_pooling2d (<span style=\"color: #0087ff; text-decoration-color: #0087ff\">MaxPooling2D</span>)         │ (<span style=\"color: #00d7ff; text-decoration-color: #00d7ff\">None</span>, <span style=\"color: #00af00; text-decoration-color: #00af00\">49</span>, <span style=\"color: #00af00; text-decoration-color: #00af00\">49</span>, <span style=\"color: #00af00; text-decoration-color: #00af00\">32</span>)          │               <span style=\"color: #00af00; text-decoration-color: #00af00\">0</span> │\n",
              "├──────────────────────────────────────┼─────────────────────────────┼─────────────────┤\n",
              "│ conv2d_1 (<span style=\"color: #0087ff; text-decoration-color: #0087ff\">Conv2D</span>)                    │ (<span style=\"color: #00d7ff; text-decoration-color: #00d7ff\">None</span>, <span style=\"color: #00af00; text-decoration-color: #00af00\">49</span>, <span style=\"color: #00af00; text-decoration-color: #00af00\">49</span>, <span style=\"color: #00af00; text-decoration-color: #00af00\">64</span>)          │          <span style=\"color: #00af00; text-decoration-color: #00af00\">18,496</span> │\n",
              "├──────────────────────────────────────┼─────────────────────────────┼─────────────────┤\n",
              "│ max_pooling2d_1 (<span style=\"color: #0087ff; text-decoration-color: #0087ff\">MaxPooling2D</span>)       │ (<span style=\"color: #00d7ff; text-decoration-color: #00d7ff\">None</span>, <span style=\"color: #00af00; text-decoration-color: #00af00\">24</span>, <span style=\"color: #00af00; text-decoration-color: #00af00\">24</span>, <span style=\"color: #00af00; text-decoration-color: #00af00\">64</span>)          │               <span style=\"color: #00af00; text-decoration-color: #00af00\">0</span> │\n",
              "├──────────────────────────────────────┼─────────────────────────────┼─────────────────┤\n",
              "│ conv2d_2 (<span style=\"color: #0087ff; text-decoration-color: #0087ff\">Conv2D</span>)                    │ (<span style=\"color: #00d7ff; text-decoration-color: #00d7ff\">None</span>, <span style=\"color: #00af00; text-decoration-color: #00af00\">24</span>, <span style=\"color: #00af00; text-decoration-color: #00af00\">24</span>, <span style=\"color: #00af00; text-decoration-color: #00af00\">64</span>)          │          <span style=\"color: #00af00; text-decoration-color: #00af00\">36,928</span> │\n",
              "├──────────────────────────────────────┼─────────────────────────────┼─────────────────┤\n",
              "│ max_pooling2d_2 (<span style=\"color: #0087ff; text-decoration-color: #0087ff\">MaxPooling2D</span>)       │ (<span style=\"color: #00d7ff; text-decoration-color: #00d7ff\">None</span>, <span style=\"color: #00af00; text-decoration-color: #00af00\">12</span>, <span style=\"color: #00af00; text-decoration-color: #00af00\">12</span>, <span style=\"color: #00af00; text-decoration-color: #00af00\">64</span>)          │               <span style=\"color: #00af00; text-decoration-color: #00af00\">0</span> │\n",
              "├──────────────────────────────────────┼─────────────────────────────┼─────────────────┤\n",
              "│ conv2d_3 (<span style=\"color: #0087ff; text-decoration-color: #0087ff\">Conv2D</span>)                    │ (<span style=\"color: #00d7ff; text-decoration-color: #00d7ff\">None</span>, <span style=\"color: #00af00; text-decoration-color: #00af00\">12</span>, <span style=\"color: #00af00; text-decoration-color: #00af00\">12</span>, <span style=\"color: #00af00; text-decoration-color: #00af00\">128</span>)         │          <span style=\"color: #00af00; text-decoration-color: #00af00\">73,856</span> │\n",
              "├──────────────────────────────────────┼─────────────────────────────┼─────────────────┤\n",
              "│ max_pooling2d_3 (<span style=\"color: #0087ff; text-decoration-color: #0087ff\">MaxPooling2D</span>)       │ (<span style=\"color: #00d7ff; text-decoration-color: #00d7ff\">None</span>, <span style=\"color: #00af00; text-decoration-color: #00af00\">11</span>, <span style=\"color: #00af00; text-decoration-color: #00af00\">11</span>, <span style=\"color: #00af00; text-decoration-color: #00af00\">128</span>)         │               <span style=\"color: #00af00; text-decoration-color: #00af00\">0</span> │\n",
              "├──────────────────────────────────────┼─────────────────────────────┼─────────────────┤\n",
              "│ flatten (<span style=\"color: #0087ff; text-decoration-color: #0087ff\">Flatten</span>)                    │ (<span style=\"color: #00d7ff; text-decoration-color: #00d7ff\">None</span>, <span style=\"color: #00af00; text-decoration-color: #00af00\">15488</span>)               │               <span style=\"color: #00af00; text-decoration-color: #00af00\">0</span> │\n",
              "├──────────────────────────────────────┼─────────────────────────────┼─────────────────┤\n",
              "│ dropout (<span style=\"color: #0087ff; text-decoration-color: #0087ff\">Dropout</span>)                    │ (<span style=\"color: #00d7ff; text-decoration-color: #00d7ff\">None</span>, <span style=\"color: #00af00; text-decoration-color: #00af00\">15488</span>)               │               <span style=\"color: #00af00; text-decoration-color: #00af00\">0</span> │\n",
              "├──────────────────────────────────────┼─────────────────────────────┼─────────────────┤\n",
              "│ dense (<span style=\"color: #0087ff; text-decoration-color: #0087ff\">Dense</span>)                        │ (<span style=\"color: #00d7ff; text-decoration-color: #00d7ff\">None</span>, <span style=\"color: #00af00; text-decoration-color: #00af00\">256</span>)                 │       <span style=\"color: #00af00; text-decoration-color: #00af00\">3,965,184</span> │\n",
              "├──────────────────────────────────────┼─────────────────────────────┼─────────────────┤\n",
              "│ dense_1 (<span style=\"color: #0087ff; text-decoration-color: #0087ff\">Dense</span>)                      │ (<span style=\"color: #00d7ff; text-decoration-color: #00d7ff\">None</span>, <span style=\"color: #00af00; text-decoration-color: #00af00\">4</span>)                   │           <span style=\"color: #00af00; text-decoration-color: #00af00\">1,028</span> │\n",
              "└──────────────────────────────────────┴─────────────────────────────┴─────────────────┘\n",
              "</pre>\n"
            ]
          },
          "metadata": {}
        },
        {
          "output_type": "display_data",
          "data": {
            "text/plain": [
              "\u001b[1m Total params: \u001b[0m\u001b[38;5;34m4,096,388\u001b[0m (15.63 MB)\n"
            ],
            "text/html": [
              "<pre style=\"white-space:pre;overflow-x:auto;line-height:normal;font-family:Menlo,'DejaVu Sans Mono',consolas,'Courier New',monospace\"><span style=\"font-weight: bold\"> Total params: </span><span style=\"color: #00af00; text-decoration-color: #00af00\">4,096,388</span> (15.63 MB)\n",
              "</pre>\n"
            ]
          },
          "metadata": {}
        },
        {
          "output_type": "display_data",
          "data": {
            "text/plain": [
              "\u001b[1m Trainable params: \u001b[0m\u001b[38;5;34m4,096,388\u001b[0m (15.63 MB)\n"
            ],
            "text/html": [
              "<pre style=\"white-space:pre;overflow-x:auto;line-height:normal;font-family:Menlo,'DejaVu Sans Mono',consolas,'Courier New',monospace\"><span style=\"font-weight: bold\"> Trainable params: </span><span style=\"color: #00af00; text-decoration-color: #00af00\">4,096,388</span> (15.63 MB)\n",
              "</pre>\n"
            ]
          },
          "metadata": {}
        },
        {
          "output_type": "display_data",
          "data": {
            "text/plain": [
              "\u001b[1m Non-trainable params: \u001b[0m\u001b[38;5;34m0\u001b[0m (0.00 B)\n"
            ],
            "text/html": [
              "<pre style=\"white-space:pre;overflow-x:auto;line-height:normal;font-family:Menlo,'DejaVu Sans Mono',consolas,'Courier New',monospace\"><span style=\"font-weight: bold\"> Non-trainable params: </span><span style=\"color: #00af00; text-decoration-color: #00af00\">0</span> (0.00 B)\n",
              "</pre>\n"
            ]
          },
          "metadata": {}
        }
      ],
      "source": [
        "model.summary()"
      ]
    },
    {
      "cell_type": "markdown",
      "metadata": {
        "id": "ij9s5Yy2cFOG"
      },
      "source": []
    },
    {
      "cell_type": "code",
      "execution_count": null,
      "metadata": {
        "id": "5Z-Du2QOw6rs"
      },
      "outputs": [],
      "source": [
        "from tensorflow.keras.callbacks import EarlyStopping, ModelCheckpoint, ReduceLROnPlateau\n",
        "import tensorflow as tf\n",
        "\n",
        "# Early Stopping\n",
        "early_stopping = EarlyStopping(\n",
        "    monitor=\"val_accuracy\",  # Pantau akurasi validasi\n",
        "    patience=5,              # Berhenti setelah 5 epoch tanpa peningkatan\n",
        "    restore_best_weights=True # Pulihkan bobot terbaik\n",
        ")\n",
        "\n",
        "# Model Checkpoint\n",
        "model_checkpoint = ModelCheckpoint(\n",
        "    filepath=\"best_model.keras\",   # Ganti ekstensi ke .keras\n",
        "    monitor=\"val_accuracy\",        # Simpan model berdasarkan akurasi validasi\n",
        "    save_best_only=True,           # Hanya simpan model terbaik\n",
        "    save_weights_only=False,       # Simpan model lengkap (bobot dan arsitektur)\n",
        "    verbose=1                      # Cetak log saat menyimpan\n",
        ")\n",
        "\n",
        "# Reduce Learning Rate on Plateau\n",
        "\n",
        "class CustomCallback(tf.keras.callbacks.Callback):\n",
        "    def on_epoch_end(self, epoch, logs=None):\n",
        "        accuracy = logs.get(\"accuracy\")\n",
        "        val_accuracy = logs.get(\"val_accuracy\")\n",
        "        print(f\"\\nEpoch {epoch + 1}: Training Accuracy = {accuracy:.4f}, Validation Accuracy = {val_accuracy:.4f}\")\n",
        "        if val_accuracy and val_accuracy >= 0.80:\n",
        "            print(\"Validation accuracy >= 90%. Stopping training.\")\n",
        "            self.model.stop_training = True\n"
      ]
    },
    {
      "cell_type": "code",
      "execution_count": null,
      "metadata": {
        "id": "fMqOEPNSzvuO"
      },
      "outputs": [],
      "source": [
        "class SaveH5Callback(tf.keras.callbacks.Callback):\n",
        "    def on_epoch_end(self, epoch, logs=None):\n",
        "        val_acc = logs.get(\"val_accuracy\")\n",
        "        if val_acc and val_acc >= 0.80:  # Contoh: Simpan jika val_accuracy >= 90%\n",
        "            self.model.save(\"best_model.h5\")\n",
        "            print(\"Model saved in best_model.h5\")"
      ]
    },
    {
      "cell_type": "markdown",
      "metadata": {
        "id": "X0AhWr7roZhw"
      },
      "source": [
        "#**Compile Model**"
      ]
    },
    {
      "cell_type": "code",
      "execution_count": null,
      "metadata": {
        "colab": {
          "base_uri": "https://localhost:8080/"
        },
        "id": "uyswE2wJoY9O",
        "outputId": "67df91ff-d703-45b9-b39b-5dede4e189cb"
      },
      "outputs": [
        {
          "output_type": "stream",
          "name": "stdout",
          "text": [
            "Epoch 1/50\n"
          ]
        },
        {
          "output_type": "stream",
          "name": "stderr",
          "text": [
            "/usr/local/lib/python3.11/dist-packages/keras/src/trainers/data_adapters/py_dataset_adapter.py:122: UserWarning: Your `PyDataset` class should call `super().__init__(**kwargs)` in its constructor. `**kwargs` can include `workers`, `use_multiprocessing`, `max_queue_size`. Do not pass these arguments to `fit()`, as they will be ignored.\n",
            "  self._warn_if_super_not_called()\n"
          ]
        },
        {
          "output_type": "stream",
          "name": "stdout",
          "text": [
            "\u001b[1m2/3\u001b[0m \u001b[32m━━━━━━━━━━━━━\u001b[0m\u001b[37m━━━━━━━\u001b[0m \u001b[1m3s\u001b[0m 4s/step - accuracy: 0.2707 - loss: 1.5486   \n",
            "Epoch 1: val_accuracy improved from -inf to 0.23256, saving model to best_model.keras\n",
            "\n",
            "Epoch 1: Training Accuracy = 0.2563, Validation Accuracy = 0.2326\n",
            "\u001b[1m3/3\u001b[0m \u001b[32m━━━━━━━━━━━━━━━━━━━━\u001b[0m\u001b[37m\u001b[0m \u001b[1m80s\u001b[0m 17s/step - accuracy: 0.2635 - loss: 1.5850 - val_accuracy: 0.2326 - val_loss: 1.4055\n",
            "Epoch 2/50\n",
            "\u001b[1m3/3\u001b[0m \u001b[32m━━━━━━━━━━━━━━━━━━━━\u001b[0m\u001b[37m\u001b[0m \u001b[1m0s\u001b[0m 54ms/step - accuracy: 0.2906 - loss: 1.3872\n",
            "Epoch 2: val_accuracy improved from 0.23256 to 0.24419, saving model to best_model.keras\n",
            "\n",
            "Epoch 2: Training Accuracy = 0.2535, Validation Accuracy = 0.2442\n",
            "\u001b[1m3/3\u001b[0m \u001b[32m━━━━━━━━━━━━━━━━━━━━\u001b[0m\u001b[37m\u001b[0m \u001b[1m10s\u001b[0m 853ms/step - accuracy: 0.2814 - loss: 1.3886 - val_accuracy: 0.2442 - val_loss: 1.3810\n",
            "Epoch 3/50\n",
            "\u001b[1m3/3\u001b[0m \u001b[32m━━━━━━━━━━━━━━━━━━━━\u001b[0m\u001b[37m\u001b[0m \u001b[1m0s\u001b[0m 46ms/step - accuracy: 0.2667 - loss: 1.3718\n",
            "Epoch 3: val_accuracy did not improve from 0.24419\n",
            "\n",
            "Epoch 3: Training Accuracy = 0.2704, Validation Accuracy = 0.2442\n",
            "\u001b[1m3/3\u001b[0m \u001b[32m━━━━━━━━━━━━━━━━━━━━\u001b[0m\u001b[37m\u001b[0m \u001b[1m6s\u001b[0m 396ms/step - accuracy: 0.2676 - loss: 1.3710 - val_accuracy: 0.2442 - val_loss: 1.3412\n",
            "Epoch 4/50\n",
            "\u001b[1m3/3\u001b[0m \u001b[32m━━━━━━━━━━━━━━━━━━━━\u001b[0m\u001b[37m\u001b[0m \u001b[1m0s\u001b[0m 57ms/step - accuracy: 0.2882 - loss: 1.3361\n",
            "Epoch 4: val_accuracy improved from 0.24419 to 0.50000, saving model to best_model.keras\n",
            "\n",
            "Epoch 4: Training Accuracy = 0.3324, Validation Accuracy = 0.5000\n",
            "\u001b[1m3/3\u001b[0m \u001b[32m━━━━━━━━━━━━━━━━━━━━\u001b[0m\u001b[37m\u001b[0m \u001b[1m11s\u001b[0m 823ms/step - accuracy: 0.2992 - loss: 1.3368 - val_accuracy: 0.5000 - val_loss: 1.3254\n",
            "Epoch 5/50\n",
            "\u001b[1m3/3\u001b[0m \u001b[32m━━━━━━━━━━━━━━━━━━━━\u001b[0m\u001b[37m\u001b[0m \u001b[1m0s\u001b[0m 54ms/step - accuracy: 0.4658 - loss: 1.2999\n",
            "Epoch 5: val_accuracy improved from 0.50000 to 0.56977, saving model to best_model.keras\n",
            "\n",
            "Epoch 5: Training Accuracy = 0.4338, Validation Accuracy = 0.5698\n",
            "\u001b[1m3/3\u001b[0m \u001b[32m━━━━━━━━━━━━━━━━━━━━\u001b[0m\u001b[37m\u001b[0m \u001b[1m5s\u001b[0m 517ms/step - accuracy: 0.4578 - loss: 1.2949 - val_accuracy: 0.5698 - val_loss: 1.2272\n",
            "Epoch 6/50\n",
            "\u001b[1m3/3\u001b[0m \u001b[32m━━━━━━━━━━━━━━━━━━━━\u001b[0m\u001b[37m\u001b[0m \u001b[1m0s\u001b[0m 53ms/step - accuracy: 0.5726 - loss: 1.2075\n",
            "Epoch 6: val_accuracy did not improve from 0.56977\n",
            "\n",
            "Epoch 6: Training Accuracy = 0.5549, Validation Accuracy = 0.5233\n",
            "\u001b[1m3/3\u001b[0m \u001b[32m━━━━━━━━━━━━━━━━━━━━\u001b[0m\u001b[37m\u001b[0m \u001b[1m5s\u001b[0m 443ms/step - accuracy: 0.5682 - loss: 1.2023 - val_accuracy: 0.5233 - val_loss: 1.1542\n",
            "Epoch 7/50\n",
            "\u001b[1m3/3\u001b[0m \u001b[32m━━━━━━━━━━━━━━━━━━━━\u001b[0m\u001b[37m\u001b[0m \u001b[1m0s\u001b[0m 54ms/step - accuracy: 0.5251 - loss: 1.1697\n",
            "Epoch 7: val_accuracy improved from 0.56977 to 0.61628, saving model to best_model.keras\n",
            "\n",
            "Epoch 7: Training Accuracy = 0.5239, Validation Accuracy = 0.6163\n",
            "\u001b[1m3/3\u001b[0m \u001b[32m━━━━━━━━━━━━━━━━━━━━\u001b[0m\u001b[37m\u001b[0m \u001b[1m6s\u001b[0m 507ms/step - accuracy: 0.5248 - loss: 1.1585 - val_accuracy: 0.6163 - val_loss: 1.0028\n",
            "Epoch 8/50\n",
            "\u001b[1m2/3\u001b[0m \u001b[32m━━━━━━━━━━━━━\u001b[0m\u001b[37m━━━━━━━\u001b[0m \u001b[1m0s\u001b[0m 56ms/step - accuracy: 0.5762 - loss: 1.0206\n",
            "Epoch 8: val_accuracy did not improve from 0.61628\n",
            "\n",
            "Epoch 8: Training Accuracy = 0.5831, Validation Accuracy = 0.5465\n",
            "\u001b[1m3/3\u001b[0m \u001b[32m━━━━━━━━━━━━━━━━━━━━\u001b[0m\u001b[37m\u001b[0m \u001b[1m10s\u001b[0m 528ms/step - accuracy: 0.5796 - loss: 1.0007 - val_accuracy: 0.5465 - val_loss: 0.9716\n",
            "Epoch 9/50\n",
            "\u001b[1m2/3\u001b[0m \u001b[32m━━━━━━━━━━━━━\u001b[0m\u001b[37m━━━━━━━\u001b[0m \u001b[1m0s\u001b[0m 54ms/step - accuracy: 0.5234 - loss: 0.9499\n",
            "Epoch 9: val_accuracy did not improve from 0.61628\n",
            "\n",
            "Epoch 9: Training Accuracy = 0.5775, Validation Accuracy = 0.5930\n",
            "\u001b[1m3/3\u001b[0m \u001b[32m━━━━━━━━━━━━━━━━━━━━\u001b[0m\u001b[37m\u001b[0m \u001b[1m5s\u001b[0m 406ms/step - accuracy: 0.5505 - loss: 0.9229 - val_accuracy: 0.5930 - val_loss: 0.8963\n",
            "Epoch 10/50\n",
            "\u001b[1m3/3\u001b[0m \u001b[32m━━━━━━━━━━━━━━━━━━━━\u001b[0m\u001b[37m\u001b[0m \u001b[1m0s\u001b[0m 46ms/step - accuracy: 0.5547 - loss: 0.9295\n",
            "Epoch 10: val_accuracy improved from 0.61628 to 0.67442, saving model to best_model.keras\n",
            "\n",
            "Epoch 10: Training Accuracy = 0.5465, Validation Accuracy = 0.6744\n",
            "\u001b[1m3/3\u001b[0m \u001b[32m━━━━━━━━━━━━━━━━━━━━\u001b[0m\u001b[37m\u001b[0m \u001b[1m5s\u001b[0m 493ms/step - accuracy: 0.5526 - loss: 0.9446 - val_accuracy: 0.6744 - val_loss: 0.8032\n",
            "Epoch 11/50\n",
            "\u001b[1m3/3\u001b[0m \u001b[32m━━━━━━━━━━━━━━━━━━━━\u001b[0m\u001b[37m\u001b[0m \u001b[1m0s\u001b[0m 46ms/step - accuracy: 0.6067 - loss: 0.8259\n",
            "Epoch 11: val_accuracy improved from 0.67442 to 0.68605, saving model to best_model.keras\n",
            "\n",
            "Epoch 11: Training Accuracy = 0.5915, Validation Accuracy = 0.6860\n",
            "\u001b[1m3/3\u001b[0m \u001b[32m━━━━━━━━━━━━━━━━━━━━\u001b[0m\u001b[37m\u001b[0m \u001b[1m6s\u001b[0m 508ms/step - accuracy: 0.6029 - loss: 0.8382 - val_accuracy: 0.6860 - val_loss: 0.7863\n",
            "Epoch 12/50\n",
            "\u001b[1m3/3\u001b[0m \u001b[32m━━━━━━━━━━━━━━━━━━━━\u001b[0m\u001b[37m\u001b[0m \u001b[1m0s\u001b[0m 54ms/step - accuracy: 0.7023 - loss: 0.7923\n",
            "Epoch 12: val_accuracy did not improve from 0.68605\n",
            "\n",
            "Epoch 12: Training Accuracy = 0.6451, Validation Accuracy = 0.6395\n",
            "\u001b[1m3/3\u001b[0m \u001b[32m━━━━━━━━━━━━━━━━━━━━\u001b[0m\u001b[37m\u001b[0m \u001b[1m5s\u001b[0m 399ms/step - accuracy: 0.6880 - loss: 0.7977 - val_accuracy: 0.6395 - val_loss: 0.8020\n",
            "Epoch 13/50\n",
            "\u001b[1m2/3\u001b[0m \u001b[32m━━━━━━━━━━━━━\u001b[0m\u001b[37m━━━━━━━\u001b[0m \u001b[1m0s\u001b[0m 57ms/step - accuracy: 0.6621 - loss: 0.7410\n",
            "Epoch 13: val_accuracy did not improve from 0.68605\n",
            "\n",
            "Epoch 13: Training Accuracy = 0.6535, Validation Accuracy = 0.6744\n",
            "\u001b[1m3/3\u001b[0m \u001b[32m━━━━━━━━━━━━━━━━━━━━\u001b[0m\u001b[37m\u001b[0m \u001b[1m5s\u001b[0m 691ms/step - accuracy: 0.6578 - loss: 0.7638 - val_accuracy: 0.6744 - val_loss: 0.8078\n",
            "Epoch 14/50\n",
            "\u001b[1m2/3\u001b[0m \u001b[32m━━━━━━━━━━━━━\u001b[0m\u001b[37m━━━━━━━\u001b[0m \u001b[1m0s\u001b[0m 56ms/step - accuracy: 0.6738 - loss: 0.7414\n",
            "Epoch 14: val_accuracy did not improve from 0.68605\n",
            "\n",
            "Epoch 14: Training Accuracy = 0.6592, Validation Accuracy = 0.5814\n",
            "\u001b[1m3/3\u001b[0m \u001b[32m━━━━━━━━━━━━━━━━━━━━\u001b[0m\u001b[37m\u001b[0m \u001b[1m10s\u001b[0m 516ms/step - accuracy: 0.6665 - loss: 0.7479 - val_accuracy: 0.5814 - val_loss: 0.8794\n",
            "Epoch 15/50\n",
            "\u001b[1m2/3\u001b[0m \u001b[32m━━━━━━━━━━━━━\u001b[0m\u001b[37m━━━━━━━\u001b[0m \u001b[1m0s\u001b[0m 55ms/step - accuracy: 0.6621 - loss: 0.7528\n",
            "Epoch 15: val_accuracy did not improve from 0.68605\n",
            "\n",
            "Epoch 15: Training Accuracy = 0.6563, Validation Accuracy = 0.6512\n",
            "\u001b[1m3/3\u001b[0m \u001b[32m━━━━━━━━━━━━━━━━━━━━\u001b[0m\u001b[37m\u001b[0m \u001b[1m6s\u001b[0m 421ms/step - accuracy: 0.6592 - loss: 0.7694 - val_accuracy: 0.6512 - val_loss: 0.7947\n",
            "Epoch 16/50\n",
            "\u001b[1m2/3\u001b[0m \u001b[32m━━━━━━━━━━━━━\u001b[0m\u001b[37m━━━━━━━\u001b[0m \u001b[1m0s\u001b[0m 54ms/step - accuracy: 0.7344 - loss: 0.6933\n",
            "Epoch 16: val_accuracy did not improve from 0.68605\n",
            "\n",
            "Epoch 16: Training Accuracy = 0.6732, Validation Accuracy = 0.5581\n",
            "\u001b[1m3/3\u001b[0m \u001b[32m━━━━━━━━━━━━━━━━━━━━\u001b[0m\u001b[37m\u001b[0m \u001b[1m8s\u001b[0m 382ms/step - accuracy: 0.7038 - loss: 0.7335 - val_accuracy: 0.5581 - val_loss: 0.7927\n"
          ]
        }
      ],
      "source": [
        "callbacks = [early_stopping, model_checkpoint, CustomCallback()]\n",
        "\n",
        "history = model.fit(\n",
        "    train_gen,\n",
        "    validation_data=val_gen,\n",
        "    epochs=50,                 # Maksimum epoch\n",
        "    callbacks=callbacks        # Tambahkan callback di sini\n",
        ")\n"
      ]
    },
    {
      "cell_type": "markdown",
      "metadata": {
        "id": "qqtA2wCpow41"
      },
      "source": [
        "#Menyimpan Model"
      ]
    },
    {
      "cell_type": "code",
      "execution_count": null,
      "metadata": {
        "colab": {
          "base_uri": "https://localhost:8080/"
        },
        "id": "rfpKXi5hwbiO",
        "outputId": "35d79b22-5722-4068-9984-75c0852b651c"
      },
      "outputs": [
        {
          "output_type": "stream",
          "name": "stdout",
          "text": [
            "Arsitektur model disimpan ke model.json\n"
          ]
        }
      ],
      "source": [
        "model_json = model.to_json()\n",
        "with open(\"model.json\", \"w\") as json_file:\n",
        "    json_file.write(model_json)\n",
        "print(\"Arsitektur model disimpan ke model.json\")\n"
      ]
    },
    {
      "cell_type": "code",
      "execution_count": null,
      "metadata": {
        "colab": {
          "base_uri": "https://localhost:8080/"
        },
        "id": "tlFsydiatRje",
        "outputId": "f5bd86f1-2ed2-423b-b747-3e6d0885f418"
      },
      "outputs": [
        {
          "output_type": "stream",
          "name": "stdout",
          "text": [
            "Bobot model berhasil disimpan.\n"
          ]
        },
        {
          "output_type": "stream",
          "name": "stderr",
          "text": [
            "WARNING:absl:You are saving your model as an HDF5 file via `model.save()` or `keras.saving.save_model(model)`. This file format is considered legacy. We recommend using instead the native Keras format, e.g. `model.save('my_model.keras')` or `keras.saving.save_model(model, 'my_model.keras')`. \n",
            "WARNING:absl:Compiled the loaded model, but the compiled metrics have yet to be built. `model.compile_metrics` will be empty until you train or evaluate the model.\n"
          ]
        }
      ],
      "source": [
        "from keras.models import model_from_json\n",
        "\n",
        "json_file = open('model.json', 'r')\n",
        "loaded_model_json = json_file.read()\n",
        "json_file.close()\n",
        "\n",
        "model.save_weights('Model.weights.h5')\n",
        "print(\"Bobot model berhasil disimpan.\")\n",
        "\n",
        "\n",
        "loaded_model = model_from_json(loaded_model_json)\n",
        "loaded_model.load_weights('Model.weights.h5')\n",
        "\n",
        "model.save('full_model.h5')\n",
        "# Memuat model lengkap\n",
        "loaded_model = tf.keras.models.load_model('full_model.h5')"
      ]
    },
    {
      "cell_type": "code",
      "execution_count": null,
      "metadata": {
        "colab": {
          "base_uri": "https://localhost:8080/",
          "height": 34
        },
        "id": "1fH0inTOxxiu",
        "outputId": "1547fa37-ec82-4b63-8714-c8097c22001a"
      },
      "outputs": [
        {
          "output_type": "display_data",
          "data": {
            "text/plain": [
              "<IPython.core.display.Javascript object>"
            ],
            "application/javascript": [
              "\n",
              "    async function download(id, filename, size) {\n",
              "      if (!google.colab.kernel.accessAllowed) {\n",
              "        return;\n",
              "      }\n",
              "      const div = document.createElement('div');\n",
              "      const label = document.createElement('label');\n",
              "      label.textContent = `Downloading \"${filename}\": `;\n",
              "      div.appendChild(label);\n",
              "      const progress = document.createElement('progress');\n",
              "      progress.max = size;\n",
              "      div.appendChild(progress);\n",
              "      document.body.appendChild(div);\n",
              "\n",
              "      const buffers = [];\n",
              "      let downloaded = 0;\n",
              "\n",
              "      const channel = await google.colab.kernel.comms.open(id);\n",
              "      // Send a message to notify the kernel that we're ready.\n",
              "      channel.send({})\n",
              "\n",
              "      for await (const message of channel.messages) {\n",
              "        // Send a message to notify the kernel that we're ready.\n",
              "        channel.send({})\n",
              "        if (message.buffers) {\n",
              "          for (const buffer of message.buffers) {\n",
              "            buffers.push(buffer);\n",
              "            downloaded += buffer.byteLength;\n",
              "            progress.value = downloaded;\n",
              "          }\n",
              "        }\n",
              "      }\n",
              "      const blob = new Blob(buffers, {type: 'application/binary'});\n",
              "      const a = document.createElement('a');\n",
              "      a.href = window.URL.createObjectURL(blob);\n",
              "      a.download = filename;\n",
              "      div.appendChild(a);\n",
              "      a.click();\n",
              "      div.remove();\n",
              "    }\n",
              "  "
            ]
          },
          "metadata": {}
        },
        {
          "output_type": "display_data",
          "data": {
            "text/plain": [
              "<IPython.core.display.Javascript object>"
            ],
            "application/javascript": [
              "download(\"download_42765996-3338-4197-bc01-057dd0b3a5f0\", \"Model.weights.h5\", 49197216)"
            ]
          },
          "metadata": {}
        }
      ],
      "source": [
        "from google.colab import files\n",
        "\n",
        "# Unduh file model.h5\n",
        "files.download(\"Model.weights.h5\")\n"
      ]
    },
    {
      "cell_type": "markdown",
      "metadata": {
        "id": "NpvvlIBYy4mf"
      },
      "source": [
        "# Testing dan evaluasi"
      ]
    },
    {
      "cell_type": "code",
      "execution_count": null,
      "metadata": {
        "colab": {
          "base_uri": "https://localhost:8080/"
        },
        "id": "Dh8yr40FytzK",
        "outputId": "c738f537-a299-45c9-cd9b-4e6792cf8c6a"
      },
      "outputs": [
        {
          "output_type": "stream",
          "name": "stdout",
          "text": [
            "LOADDED!\n"
          ]
        }
      ],
      "source": [
        "from keras.models import model_from_json\n",
        "\n",
        "json_file = open('model.json', 'r')\n",
        "loaded_model_json = json_file.read()\n",
        "json_file.close()\n",
        "\n",
        "loaded_model = model_from_json(loaded_model_json)\n",
        "loaded_model.load_weights('full_model.h5')\n",
        "\n",
        "print(\"LOADDED!\")"
      ]
    },
    {
      "cell_type": "code",
      "execution_count": null,
      "metadata": {
        "id": "JP02VHMzAYKo",
        "colab": {
          "base_uri": "https://localhost:8080/",
          "height": 1000
        },
        "outputId": "e4f17f30-6806-49a6-877d-ef42baa36089"
      },
      "outputs": [
        {
          "output_type": "display_data",
          "data": {
            "text/plain": [
              "<Figure size 1000x600 with 1 Axes>"
            ],
            "image/png": "[encoded data removed]"
          },
          "metadata": {}
        },
        {
          "output_type": "display_data",
          "data": {
            "text/plain": [
              "<Figure size 1000x600 with 1 Axes>"
            ],
            "image/png": "[encoded data removed]"
          },
          "metadata": {}
        }
      ],
      "source": [
        "import matplotlib.pyplot as plt\n",
        "\n",
        "# Plot Akurasi\n",
        "plt.figure(figsize=(10, 6))\n",
        "plt.plot(history.history['accuracy'], label='Training Accuracy')\n",
        "plt.plot(history.history['val_accuracy'], label='Validation Accuracy')\n",
        "plt.title('Model Accuracy')\n",
        "plt.xlabel('Epochs')\n",
        "plt.ylabel('Accuracy')\n",
        "plt.legend()\n",
        "plt.grid(True)\n",
        "plt.show()\n",
        "\n",
        "# Plot Loss\n",
        "plt.figure(figsize=(10, 6))\n",
        "plt.plot(history.history['loss'], label='Training Loss')\n",
        "plt.plot(history.history['val_loss'], label='Validation Loss')\n",
        "plt.title('Model Loss')\n",
        "plt.xlabel('Epochs')\n",
        "plt.ylabel('Loss')\n",
        "plt.legend()\n",
        "plt.grid(True)\n",
        "plt.show()"
      ]
    },
    {
      "cell_type": "code",
      "execution_count": null,
      "metadata": {
        "id": "XAUu9Rb8DEbL",
        "colab": {
          "base_uri": "https://localhost:8080/",
          "height": 34
        },
        "outputId": "a3a831a9-322e-4e2d-bb36-25dee144447a"
      },
      "outputs": [
        {
          "output_type": "display_data",
          "data": {
            "text/plain": [
              "<IPython.core.display.Javascript object>"
            ],
            "application/javascript": [
              "\n",
              "    async function download(id, filename, size) {\n",
              "      if (!google.colab.kernel.accessAllowed) {\n",
              "        return;\n",
              "      }\n",
              "      const div = document.createElement('div');\n",
              "      const label = document.createElement('label');\n",
              "      label.textContent = `Downloading \"${filename}\": `;\n",
              "      div.appendChild(label);\n",
              "      const progress = document.createElement('progress');\n",
              "      progress.max = size;\n",
              "      div.appendChild(progress);\n",
              "      document.body.appendChild(div);\n",
              "\n",
              "      const buffers = [];\n",
              "      let downloaded = 0;\n",
              "\n",
              "      const channel = await google.colab.kernel.comms.open(id);\n",
              "      // Send a message to notify the kernel that we're ready.\n",
              "      channel.send({})\n",
              "\n",
              "      for await (const message of channel.messages) {\n",
              "        // Send a message to notify the kernel that we're ready.\n",
              "        channel.send({})\n",
              "        if (message.buffers) {\n",
              "          for (const buffer of message.buffers) {\n",
              "            buffers.push(buffer);\n",
              "            downloaded += buffer.byteLength;\n",
              "            progress.value = downloaded;\n",
              "          }\n",
              "        }\n",
              "      }\n",
              "      const blob = new Blob(buffers, {type: 'application/binary'});\n",
              "      const a = document.createElement('a');\n",
              "      a.href = window.URL.createObjectURL(blob);\n",
              "      a.download = filename;\n",
              "      div.appendChild(a);\n",
              "      a.click();\n",
              "      div.remove();\n",
              "    }\n",
              "  "
            ]
          },
          "metadata": {}
        },
        {
          "output_type": "display_data",
          "data": {
            "text/plain": [
              "<IPython.core.display.Javascript object>"
            ],
            "application/javascript": [
              "download(\"download_4cc8e345-1ca7-42d6-b23a-2e306a6d5fd8\", \"sample_data.zip\", 7066070)"
            ]
          },
          "metadata": {}
        }
      ],
      "source": [
        "import shutil\n",
        "from google.colab import files\n",
        "\n",
        "# Kompres direktori sample_data menjadi file ZIP\n",
        "shutil.make_archive('sample_data', 'zip', '/content/sample_data')\n",
        "\n",
        "# Unduh file ZIP\n",
        "files.download('sample_data.zip')\n"
      ]
    },
    {
      "cell_type": "markdown",
      "metadata": {
        "id": "NI2Lte0T0uSU"
      },
      "source": [
        "#Proses megupload sample"
      ]
    },
    {
      "cell_type": "code",
      "execution_count": null,
      "metadata": {
        "id": "nhXX8jguz1q5",
        "colab": {
          "base_uri": "https://localhost:8080/",
          "height": 36
        },
        "outputId": "baa41124-f6dd-4dad-e8f9-ff9f486698f1"
      },
      "outputs": [
        {
          "data": {
            "text/html": [
              "\n",
              "     <input type=\"file\" id=\"files-4ad1207a-9b79-4433-8c35-63a6bb1a0319\" name=\"files[]\" multiple disabled\n",
              "        style=\"border:none\" />\n",
              "     <output id=\"result-4ad1207a-9b79-4433-8c35-63a6bb1a0319\">\n",
              "      Upload widget is only available when the cell has been executed in the\n",
              "      current browser session. Please rerun this cell to enable.\n",
              "      </output>\n",
              "      <script>// Copyright 2017 Google LLC\n",
              "//\n",
              "// Licensed under the Apache License, Version 2.0 (the \"License\");\n",
              "// you may not use this file except in compliance with the License.\n",
              "// You may obtain a copy of the License at\n",
              "//\n",
              "//      http://www.apache.org/licenses/LICENSE-2.0\n",
              "//\n",
              "// Unless required by applicable law or agreed to in writing, software\n",
              "// distributed under the License is distributed on an \"AS IS\" BASIS,\n",
              "// WITHOUT WARRANTIES OR CONDITIONS OF ANY KIND, either express or implied.\n",
              "// See the License for the specific language governing permissions and\n",
              "// limitations under the License.\n",
              "\n",
              "/**\n",
              " * @fileoverview Helpers for google.colab Python module.\n",
              " */\n",
              "(function(scope) {\n",
              "function span(text, styleAttributes = {}) {\n",
              "  const element = document.createElement('span');\n",
              "  element.textContent = text;\n",
              "  for (const key of Object.keys(styleAttributes)) {\n",
              "    element.style[key] = styleAttributes[key];\n",
              "  }\n",
              "  return element;\n",
              "}\n",
              "\n",
              "// Max number of bytes which will be uploaded at a time.\n",
              "const MAX_PAYLOAD_SIZE = 100 * 1024;\n",
              "\n",
              "function _uploadFiles(inputId, outputId) {\n",
              "  const steps = uploadFilesStep(inputId, outputId);\n",
              "  const outputElement = document.getElementById(outputId);\n",
              "  // Cache steps on the outputElement to make it available for the next call\n",
              "  // to uploadFilesContinue from Python.\n",
              "  outputElement.steps = steps;\n",
              "\n",
              "  return _uploadFilesContinue(outputId);\n",
              "}\n",
              "\n",
              "// This is roughly an async generator (not supported in the browser yet),\n",
              "// where there are multiple asynchronous steps and the Python side is going\n",
              "// to poll for completion of each step.\n",
              "// This uses a Promise to block the python side on completion of each step,\n",
              "// then passes the result of the previous step as the input to the next step.\n",
              "function _uploadFilesContinue(outputId) {\n",
              "  const outputElement = document.getElementById(outputId);\n",
              "  const steps = outputElement.steps;\n",
              "\n",
              "  const next = steps.next(outputElement.lastPromiseValue);\n",
              "  return Promise.resolve(next.value.promise).then((value) => {\n",
              "    // Cache the last promise value to make it available to the next\n",
              "    // step of the generator.\n",
              "    outputElement.lastPromiseValue = value;\n",
              "    return next.value.response;\n",
              "  });\n",
              "}\n",
              "\n",
              "/**\n",
              " * Generator function which is called between each async step of the upload\n",
              " * process.\n",
              " * @param {string} inputId Element ID of the input file picker element.\n",
              " * @param {string} outputId Element ID of the output display.\n",
              " * @return {!Iterable<!Object>} Iterable of next steps.\n",
              " */\n",
              "function* uploadFilesStep(inputId, outputId) {\n",
              "  const inputElement = document.getElementById(inputId);\n",
              "  inputElement.disabled = false;\n",
              "\n",
              "  const outputElement = document.getElementById(outputId);\n",
              "  outputElement.innerHTML = '';\n",
              "\n",
              "  const pickedPromise = new Promise((resolve) => {\n",
              "    inputElement.addEventListener('change', (e) => {\n",
              "      resolve(e.target.files);\n",
              "    });\n",
              "  });\n",
              "\n",
              "  const cancel = document.createElement('button');\n",
              "  inputElement.parentElement.appendChild(cancel);\n",
              "  cancel.textContent = 'Cancel upload';\n",
              "  const cancelPromise = new Promise((resolve) => {\n",
              "    cancel.onclick = () => {\n",
              "      resolve(null);\n",
              "    };\n",
              "  });\n",
              "\n",
              "  // Wait for the user to pick the files.\n",
              "  const files = yield {\n",
              "    promise: Promise.race([pickedPromise, cancelPromise]),\n",
              "    response: {\n",
              "      action: 'starting',\n",
              "    }\n",
              "  };\n",
              "\n",
              "  cancel.remove();\n",
              "\n",
              "  // Disable the input element since further picks are not allowed.\n",
              "  inputElement.disabled = true;\n",
              "\n",
              "  if (!files) {\n",
              "    return {\n",
              "      response: {\n",
              "        action: 'complete',\n",
              "      }\n",
              "    };\n",
              "  }\n",
              "\n",
              "  for (const file of files) {\n",
              "    const li = document.createElement('li');\n",
              "    li.append(span(file.name, {fontWeight: 'bold'}));\n",
              "    li.append(span(\n",
              "        `(${file.type || 'n/a'}) - ${file.size} bytes, ` +\n",
              "        `last modified: ${\n",
              "            file.lastModifiedDate ? file.lastModifiedDate.toLocaleDateString() :\n",
              "                                    'n/a'} - `));\n",
              "    const percent = span('0% done');\n",
              "    li.appendChild(percent);\n",
              "\n",
              "    outputElement.appendChild(li);\n",
              "\n",
              "    const fileDataPromise = new Promise((resolve) => {\n",
              "      const reader = new FileReader();\n",
              "      reader.onload = (e) => {\n",
              "        resolve(e.target.result);\n",
              "      };\n",
              "      reader.readAsArrayBuffer(file);\n",
              "    });\n",
              "    // Wait for the data to be ready.\n",
              "    let fileData = yield {\n",
              "      promise: fileDataPromise,\n",
              "      response: {\n",
              "        action: 'continue',\n",
              "      }\n",
              "    };\n",
              "\n",
              "    // Use a chunked sending to avoid message size limits. See b/62115660.\n",
              "    let position = 0;\n",
              "    do {\n",
              "      const length = Math.min(fileData.byteLength - position, MAX_PAYLOAD_SIZE);\n",
              "      const chunk = new Uint8Array(fileData, position, length);\n",
              "      position += length;\n",
              "\n",
              "      const base64 = btoa(String.fromCharCode.apply(null, chunk));\n",
              "      yield {\n",
              "        response: {\n",
              "          action: 'append',\n",
              "          file: file.name,\n",
              "          data: base64,\n",
              "        },\n",
              "      };\n",
              "\n",
              "      let percentDone = fileData.byteLength === 0 ?\n",
              "          100 :\n",
              "          Math.round((position / fileData.byteLength) * 100);\n",
              "      percent.textContent = `${percentDone}% done`;\n",
              "\n",
              "    } while (position < fileData.byteLength);\n",
              "  }\n",
              "\n",
              "  // All done.\n",
              "  yield {\n",
              "    response: {\n",
              "      action: 'complete',\n",
              "    }\n",
              "  };\n",
              "}\n",
              "\n",
              "scope.google = scope.google || {};\n",
              "scope.google.colab = scope.google.colab || {};\n",
              "scope.google.colab._files = {\n",
              "  _uploadFiles,\n",
              "  _uploadFilesContinue,\n",
              "};\n",
              "})(self);\n",
              "</script> "
            ],
            "text/plain": [
              "<IPython.core.display.HTML object>"
            ]
          },
          "metadata": {},
          "output_type": "display_data"
        }
      ],
      "source": [
        "from google.colab import files\n",
        "\n",
        "# Upload a file\n",
        "uploaded = files.upload()"
      ]
    },
    {
      "cell_type": "code",
      "execution_count": null,
      "metadata": {
        "id": "dW_Ufm_5GgvE"
      },
      "outputs": [],
      "source": [
        "classes = list(train_gen.class_indices.keys())\n",
        "print(\"Daftar kelas:\", classes)"
      ]
    },
    {
      "cell_type": "code",
      "execution_count": null,
      "metadata": {
        "id": "pcJJio850scC"
      },
      "outputs": [],
      "source": [
        "from PIL import Image\n",
        "import io\n",
        "import cv2\n",
        "import numpy as np\n",
        "\n",
        "# Ambil nama file dari upload\n",
        "file_name = next(iter(uploaded))\n",
        "img = Image.open(io.BytesIO(uploaded[file_name]))\n",
        "\n",
        "# Ubah gambar dari format PIL ke array NumPy\n",
        "img = np.array(img)\n",
        "\n",
        "# Ubah ukuran gambar menggunakan OpenCV\n",
        "image = cv2.resize(img, (100, 100))\n",
        "\n",
        "# Pastikan bentuk (shape) sesuai dengan input model\n",
        "image = np.reshape(image, (1, 100, 100, 3))\n",
        "\n",
        "# Prediksi kelas gambar\n",
        "prediksi = model.predict(image)\n",
        "predicted_class = np.argmax(prediksi, axis=1)\n",
        "\n",
        "predicted_label = classes[predicted_class[0]]\n",
        "\n",
        "print(\"Prediksinya adalah \", predicted_label)\n"
      ]
    },
    {
      "cell_type": "code",
      "execution_count": null,
      "metadata": {
        "id": "mFOISmL119hF"
      },
      "outputs": [],
      "source": [
        "print(\"prediksinya adalah \",prediksi)"
      ]
    },
    {
      "cell_type": "markdown",
      "metadata": {
        "id": "ZWclLn2tHqin"
      },
      "source": [
        "# membuat confussion matriks\n"
      ]
    },
    {
      "cell_type": "code",
      "execution_count": null,
      "metadata": {
        "id": "9rb19XcrHpXg"
      },
      "outputs": [],
      "source": [
        "test_generator = ImageDataGenerator(rescale=1./255)\n",
        "test_data_generator = test_generator.flow_from_directory(\n",
        "    '/root/.cache/kagglehub/datasets/zalfahumaira/isyarat-kata-sibi/versions/1/IsyaratKata/',\n",
        "    target_size=(100,100),\n",
        "    batch_size=32,\n",
        "    shuffle=False\n",
        ")\n"
      ]
    },
    {
      "cell_type": "code",
      "execution_count": null,
      "metadata": {
        "id": "_-THFx3eyDNY"
      },
      "outputs": [],
      "source": [
        "print(model.summary())\n"
      ]
    },
    {
      "cell_type": "code",
      "execution_count": null,
      "metadata": {
        "id": "HdXORe3pxcUw"
      },
      "outputs": [],
      "source": [
        "from sklearn.metrics import confusion_matrix, ConfusionMatrixDisplay\n",
        "\n",
        "y_true = test_data_generator.classes\n",
        "y_pred = np.argmax(model.predict(test_data_generator), axis=-1)\n",
        "\n",
        "cm = confusion_matrix(y_true, y_pred)\n",
        "\n",
        "cmd = ConfusionMatrixDisplay(confusion_matrix=cm, display_labels=test_data_generator.class_indices.keys())\n",
        "cmd.plot(cmap='Blues')\n",
        "\n",
        "plt.xticks(rotation=45, ha='right')\n",
        "plt.title('Confusion Matrix')\n",
        "plt.show()"
      ]
    },
    {
      "cell_type": "code",
      "execution_count": null,
      "metadata": {
        "id": "yFqyuRw3qO2g"
      },
      "outputs": [],
      "source": [
        "from sklearn.metrics import confusion_matrix, classification_report\n",
        "\n",
        "prediksi = model.predict(test_data_generator)\n",
        "\n",
        "\n",
        "y_pred = np.argmax(prediksi, axis=1)\n",
        "\n",
        "print(\"=========Confustion=============\")\n",
        "\n",
        "print(confusion_matrix(test_data_generator.classes,y_pred))\n"
      ]
    },
    {
      "cell_type": "code",
      "execution_count": null,
      "metadata": {
        "id": "t0MyHKuSSC6y"
      },
      "outputs": [],
      "source": [
        "print(\"============HAsil=============\")\n",
        "\n",
        "print(classification_report(test_data_generator.classes,y_pred))"
      ]
    }
  ],
  "metadata": {
    "accelerator": "GPU",
    "colab": {
      "gpuType": "T4",
      "provenance": [],
      "include_colab_link": true
    },
    "kernelspec": {
      "display_name": "Python 3",
      "name": "python3"
    },
    "language_info": {
      "name": "python"
    }
  },
  "nbformat": 4,
  "nbformat_minor": 0
}